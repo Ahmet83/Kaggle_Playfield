{
 "cells": [
  {
   "cell_type": "code",
   "execution_count": 1,
   "metadata": {
    "collapsed": true
   },
   "outputs": [],
   "source": [
    "import pandas as pd\n",
    "import numpy as np\n",
    "from numpy.random import choice\n",
    "from scipy.ndimage.interpolation import shift\n",
    "from sklearn.grid_search import GridSearchCV, RandomizedSearchCV\n",
    "from sklearn.preprocessing import LabelEncoder\n",
    "from sklearn.cross_validation import train_test_split, ShuffleSplit\n",
    "from sklearn.ensemble import RandomForestClassifier, BaggingClassifier \n",
    "from sklearn.metrics import precision_score, accuracy_score, classification_report, log_loss\n",
    "from sklearn.calibration import CalibratedClassifierCV\n",
    "from time import time\n",
    "from sklearn import cross_validation\n",
    "from sklearn import preprocessing"
   ]
  },
  {
   "cell_type": "markdown",
   "metadata": {},
   "source": [
    "# 1. Part: Classification with original data"
   ]
  },
  {
   "cell_type": "markdown",
   "metadata": {},
   "source": [
    "## Import Data (Kaggle OTTO challenge, UNSAMPLED)"
   ]
  },
  {
   "cell_type": "code",
   "execution_count": 2,
   "metadata": {
    "collapsed": true
   },
   "outputs": [],
   "source": [
    "x_total = pd.read_csv('./train.csv')\n",
    "y_total = x_total.target.values"
   ]
  },
  {
   "cell_type": "code",
   "execution_count": 3,
   "metadata": {
    "collapsed": true
   },
   "outputs": [],
   "source": [
    "x_class2 = x_total.copy()\n",
    "x_class3 = x_total.copy()\n",
    "x_class4 = x_total.copy()"
   ]
  },
  {
   "cell_type": "markdown",
   "metadata": {},
   "source": [
    "## Relabeling for single partitions\n",
    "[**Explanation**]: Each new estimator is a OvR classifier and needs a modified training set. Relabeling a dataframe in Python Pandas is most efficiently done via the **lambda** operator, that is a pythonic way of applying functional programming within Python. (_add source here_)  \n",
    "\n",
    "E.g. Estimator for class 2 is trained on a dataset with target values in ['Class_2, 'Not_Class_2']"
   ]
  },
  {
   "cell_type": "code",
   "execution_count": 4,
   "metadata": {
    "collapsed": true
   },
   "outputs": [],
   "source": [
    "x_class2.target= x_class2.target.map(lambda x: x if x=='Class_2' else 'Not_2')\n",
    "x_class3.target= x_class3.target.map(lambda x: x if x=='Class_3' else 'Not_3')\n",
    "x_class4.target= x_class4.target.map(lambda x: x if x=='Class_4' else 'Not_4')\n",
    "\n",
    "#if class 1,5,6,7,8,9, then leave it x, else label it \"unknown\"\n",
    "x_total.target = x_total.target.map(lambda x: 'other' if (x=='Class_2') or (x=='Class_3') or (x=='Class_4') else x)"
   ]
  },
  {
   "cell_type": "markdown",
   "metadata": {},
   "source": [
    "## Create Labelencoder for encode / uncode of labels of last estimator"
   ]
  },
  {
   "cell_type": "markdown",
   "metadata": {},
   "source": [
    "### check if labelencoder really needed (farbe hier ändern)"
   ]
  },
  {
   "cell_type": "code",
   "execution_count": 5,
   "metadata": {
    "collapsed": false
   },
   "outputs": [],
   "source": [
    "le_y_test = preprocessing.LabelEncoder() #create an encoder\n",
    " #fit the encoder to y_total\n",
    "#y_total_coded = le_y_test.transform(y_total)\n",
    "#list(le_y_test.classes_) #list the classes\n",
    "\n",
    "#le_y_test.transform(y_total) #transform to numeric labels\n",
    "\n",
    "#list(le_y_test.inverse_transform(y_total)) #transform back"
   ]
  },
  {
   "cell_type": "markdown",
   "metadata": {},
   "source": [
    "## prepare 4 seperate datasets (incl. 1 total one), use custom LabelEncoder()"
   ]
  },
  {
   "cell_type": "code",
   "execution_count": 6,
   "metadata": {
    "collapsed": true
   },
   "outputs": [],
   "source": [
    "x_total = x_total.drop('id', axis=1)\n",
    "x_class2 = x_class2.drop('id', axis=1)\n",
    "x_class3 = x_class3.drop('id', axis=1)\n",
    "x_class4 = x_class4.drop('id', axis=1)"
   ]
  },
  {
   "cell_type": "code",
   "execution_count": 7,
   "metadata": {
    "collapsed": true
   },
   "outputs": [],
   "source": [
    "y_total = x_total.target.values\n",
    "#encode labels\n",
    "le_y_test.fit(y_total)\n",
    "y_total = le_y_test.transform(y_total)\n",
    "\n",
    "x_total = x_total.drop('target', axis=1)"
   ]
  },
  {
   "cell_type": "code",
   "execution_count": 8,
   "metadata": {
    "collapsed": true
   },
   "outputs": [],
   "source": [
    "y_class2 = x_class2.target.values\n",
    "y_class2 = LabelEncoder().fit_transform(y_class2)\n",
    "x_class2 = x_class2.drop('target', axis=1)"
   ]
  },
  {
   "cell_type": "code",
   "execution_count": 9,
   "metadata": {
    "collapsed": true
   },
   "outputs": [],
   "source": [
    "y_class3 = x_class3.target.values\n",
    "y_class3 = LabelEncoder().fit_transform(y_class3)\n",
    "x_class3 = x_class3.drop('target', axis=1)"
   ]
  },
  {
   "cell_type": "code",
   "execution_count": 10,
   "metadata": {
    "collapsed": true
   },
   "outputs": [],
   "source": [
    "y_class4 = x_class4.target.values\n",
    "y_class4 = LabelEncoder().fit_transform(y_class4)\n",
    "x_class4 = x_class4.drop('target', axis=1)"
   ]
  },
  {
   "cell_type": "code",
   "execution_count": 11,
   "metadata": {
    "collapsed": false
   },
   "outputs": [
    {
     "data": {
      "text/plain": [
       "'Class_5'"
      ]
     },
     "execution_count": 11,
     "metadata": {},
     "output_type": "execute_result"
    }
   ],
   "source": [
    "le_y_test.inverse_transform(y_total[31222])"
   ]
  },
  {
   "cell_type": "code",
   "execution_count": 12,
   "metadata": {
    "collapsed": false
   },
   "outputs": [
    {
     "data": {
      "text/plain": [
       "1"
      ]
     },
     "execution_count": 12,
     "metadata": {},
     "output_type": "execute_result"
    }
   ],
   "source": [
    "y_total[31222]"
   ]
  },
  {
   "cell_type": "markdown",
   "metadata": {},
   "source": [
    "## Split Train / Test separately\n",
    "[**Explanation**]: We want to completely isolate a 30 % sample of traindata,\n",
    "so we can afterwards use it for testing and validating."
   ]
  },
  {
   "cell_type": "code",
   "execution_count": 13,
   "metadata": {
    "collapsed": true
   },
   "outputs": [],
   "source": [
    "Xtrain_total, Xtest_total, ytrain_total, ytest_total = train_test_split(x_total, y_total, test_size=0.30, random_state=36)\n",
    "Xtrain_class2, Xtest_class2, ytrain_class2, ytest_class2 = train_test_split(x_class2, y_class2, test_size=0.30, random_state=36)\n",
    "Xtrain_class3, Xtest_class3, ytrain_class3, ytest_class3 = train_test_split(x_class3, y_class3, test_size=0.30, random_state=36)\n",
    "Xtrain_class4, Xtest_class4, ytrain_class4, ytest_class4 = train_test_split(x_class4, y_class4, test_size=0.30, random_state=36)"
   ]
  },
  {
   "cell_type": "markdown",
   "metadata": {},
   "source": [
    "## Reindexing Xtest_total into new df , needs to be done with ytest as well to be comparable\n",
    "[**Explanation**]: We need a separate unmodified train/test dataset, that has all 9 original class labels.\n",
    "\n",
    "This needed for testing/evaluating the final stack_estimator. The labels and corresponding test observations need to be within the original class labels (Class_1 to 9). The above splits are already modified though."
   ]
  },
  {
   "cell_type": "code",
   "execution_count": 14,
   "metadata": {
    "collapsed": true
   },
   "outputs": [],
   "source": [
    "x_final = pd.read_csv('./train.csv')\n",
    "y_final = x_final.target.values\n",
    "\n",
    "le_yfinal = preprocessing.LabelEncoder()\n",
    "le_yfinal.fit(y_final)\n",
    "y_final = le_yfinal.transform(y_final)\n",
    "\n",
    "x_final = x_final.drop('target', axis=1)\n",
    "x_final = x_final.drop('id', axis=1)\n",
    "\n",
    "\n",
    "Xtrain_final, Xtest_final, ytrain_final, ytest_final = train_test_split(x_final, y_final, test_size=0.30, random_state=36)"
   ]
  },
  {
   "cell_type": "code",
   "execution_count": 15,
   "metadata": {
    "collapsed": false
   },
   "outputs": [
    {
     "data": {
      "text/plain": [
       "array(['Class_1', 'Class_5', 'Class_6', 'Class_7', 'Class_8', 'Class_9',\n",
       "       'other'], dtype=object)"
      ]
     },
     "execution_count": 15,
     "metadata": {},
     "output_type": "execute_result"
    }
   ],
   "source": [
    "le_y_test.classes_"
   ]
  },
  {
   "cell_type": "code",
   "execution_count": 16,
   "metadata": {
    "collapsed": false
   },
   "outputs": [],
   "source": [
    "Xtest_index = Xtest_final.copy()\n",
    "\n",
    "Xtest_index.index = range(1,len(Xtest_index) + 1)\n",
    "\n",
    "#reindex encoded y too ? -> probably not needed.\n",
    "#y_test_total_encoded = le_y_test.transform(y_test_total_encoded)\n",
    "#y_tottest_index = y_test_total_encoded"
   ]
  },
  {
   "cell_type": "markdown",
   "metadata": {},
   "source": [
    "## OvR 4 Estimators for class 2-4 and 1,5-9\n",
    "[**Explanation**]: (see Confusion Matrix). We found out, that Classes 2-4 are very similar, such that they are being misclassified often to each other, e.g. Class 2 gets many FPs as Class 3. We decided to approach this issue by defining seperate OneVsRest Classifiers for those classes. Each estimator is cross-validated to get a more reliable prediction score."
   ]
  },
  {
   "cell_type": "code",
   "execution_count": 17,
   "metadata": {
    "collapsed": false
   },
   "outputs": [
    {
     "name": "stdout",
     "output_type": "stream",
     "text": [
      "Train: [    0     1     2 ..., 43309 43310 43313] | test: [   11    12    13 ..., 43308 43311 43312]\n",
      "Train: [    0     1     2 ..., 43311 43312 43313] | test: [    7     9    10 ..., 43301 43306 43309]\n",
      "Train: [    0     1     2 ..., 43309 43311 43312] | test: [    5     6    15 ..., 43307 43310 43313]\n",
      "Train: [    1     4     5 ..., 43311 43312 43313] | test: [    0     2     3 ..., 43295 43298 43303]\n",
      "Train: [    0     2     3 ..., 43311 43312 43313] | test: [    1     4    18 ..., 43293 43299 43302]\n"
     ]
    },
    {
     "data": {
      "text/plain": [
       "[0.88957121310062481,\n",
       " 0.88994828700711048,\n",
       " 0.89070243482008193,\n",
       " 0.8904330963154492,\n",
       " 0.89064856711915541]"
      ]
     },
     "execution_count": 17,
     "metadata": {},
     "output_type": "execute_result"
    }
   ],
   "source": [
    "cv1 = cross_validation.KFold(Xtrain_class2.shape[0], n_folds=5, shuffle=True)\n",
    "for train_indices, test_indices in cv1:\n",
    "    print('Train: %s | test: %s' % (train_indices, test_indices))\n",
    "rf1 = RandomForestClassifier(n_estimators=500, n_jobs=-1, criterion=\"entropy\", min_samples_split=3, \n",
    "                             min_samples_leaf=2, bootstrap=True, max_depth = None, class_weight = None, max_features = 30)\n",
    "\n",
    "[rf1.fit(Xtrain_class2, ytrain_class2).score(Xtest_class2, ytest_class2)\n",
    "         for train, test in cv1]"
   ]
  },
  {
   "cell_type": "markdown",
   "metadata": {},
   "source": [
    "RandomizedSearchCV took 1033.68 seconds for 30 candidates parameter settings.\n",
    "Model with rank: 1\n",
    "Mean validation score: 0.884 (std: 0.003)\n",
    "Parameters: {'n_estimators': 500, 'criterion': 'entropy', 'min_samples_split': 3, 'min_samples_leaf': 2, 'bootstrap': True, 'max_depth': None, 'class_weight': None, 'max_features': 30}\n",
    "\n",
    "Model with rank: 2\n",
    "Mean validation score: 0.882 (std: 0.003)\n",
    "Parameters: {'n_estimators': 500, 'criterion': 'entropy', 'min_samples_split': 2, 'min_samples_leaf': 3, 'bootstrap': True, 'max_depth': None, 'class_weight': None, 'max_features': 30}\n",
    "\n",
    "Model with rank: 3\n",
    "Mean validation score: 0.876 (std: 0.005)\n",
    "Parameters: {'n_estimators': 500, 'criterion': 'entropy', 'min_samples_split': 3, 'min_samples_leaf': 2, 'bootstrap': True, 'max_depth': None, 'class_weight': 'auto', 'max_features': 10}"
   ]
  },
  {
   "cell_type": "code",
   "execution_count": 27,
   "metadata": {
    "collapsed": false
   },
   "outputs": [
    {
     "data": {
      "text/plain": [
       "0.89980607627666453"
      ]
     },
     "execution_count": 27,
     "metadata": {},
     "output_type": "execute_result"
    }
   ],
   "source": [
    "cv2 = ShuffleSplit(Xtrain_class3.shape[0], n_iter=10, test_size=0.2, random_state=0)\n",
    "rf2 = RandomForestClassifier(n_estimators=500, n_jobs=-1, criterion=\"entropy\", bootstrap=False, min_samples_split=10,\n",
    "                            min_samples_leaf=3, max_depth=None, class_weight=None)\n",
    "rf2.fit(Xtrain_class3,ytrain_class3)\n",
    "rf2.score(Xtest_class3,ytest_class3)"
   ]
  },
  {
   "cell_type": "markdown",
   "metadata": {},
   "source": [
    "RandomizedSearchCV took 974.68 seconds for 30 candidates parameter settings.\n",
    "Model with rank: 1\n",
    "Mean validation score: 0.894 (std: 0.001)\n",
    "Parameters: {'criterion': 'entropy', 'n_estimators': 100, 'bootstrap': True, 'min_samples_split': 10, 'max_features': 10, 'min_samples_leaf': 2, 'max_depth': None, 'class_weight': None}\n",
    "\n",
    "Model with rank: 2\n",
    "Mean validation score: 0.894 (std: 0.001)\n",
    "Parameters: {'criterion': 'entropy', 'n_estimators': 100, 'bootstrap': True, 'min_samples_split': 10, 'max_features': 10, 'min_samples_leaf': 3, 'max_depth': None, 'class_weight': None}\n",
    "\n",
    "Model with rank: 3\n",
    "Mean validation score: 0.893 (std: 0.002)\n",
    "Parameters: {'criterion': 'gini', 'n_estimators': 200, 'bootstrap': False, 'min_samples_split': 10, 'max_features': 30, 'min_samples_leaf': 15, 'max_depth': None, 'class_weight': None}"
   ]
  },
  {
   "cell_type": "code",
   "execution_count": 30,
   "metadata": {
    "collapsed": false
   },
   "outputs": [
    {
     "data": {
      "text/plain": [
       "0.96837965955613015"
      ]
     },
     "execution_count": 30,
     "metadata": {},
     "output_type": "execute_result"
    }
   ],
   "source": [
    "cv3 = ShuffleSplit(Xtrain_class4.shape[0], n_iter=10, test_size=0.2, random_state=0)\n",
    "rf3 = RandomForestClassifier(n_estimators=500, max_features=\"sqrt\", criterion=\"gini\", bootstrap=False,\n",
    "                                min_samples_leaf=1, min_samples_split=3, max_depth= None, class_weight=\"subsample\",\n",
    "                                n_jobs=-1)\n",
    "rf3.fit(Xtrain_class4,ytrain_class4)\n",
    "rf3.score(Xtest_class4,ytest_class4)"
   ]
  },
  {
   "cell_type": "code",
   "execution_count": 32,
   "metadata": {
    "collapsed": false
   },
   "outputs": [
    {
     "name": "stdout",
     "output_type": "stream",
     "text": [
      "Train: [    0     1     2 ..., 43310 43311 43312] | test: [   12    21    24 ..., 43306 43309 43313]\n",
      "Train: [    0     2     3 ..., 43311 43312 43313] | test: [    1     8    10 ..., 43293 43301 43307]\n",
      "Train: [    0     1     3 ..., 43310 43312 43313] | test: [    2    22    31 ..., 43300 43308 43311]\n",
      "Train: [    0     1     2 ..., 43309 43311 43313] | test: [    4     5     6 ..., 43304 43310 43312]\n",
      "Train: [    1     2     4 ..., 43311 43312 43313] | test: [    0     3     7 ..., 43283 43285 43298]\n"
     ]
    },
    {
     "data": {
      "text/plain": [
       "[0.92614738202973501,\n",
       " 0.9270092652445594,\n",
       " 0.92684766214177983,\n",
       " 0.92695539754363288,\n",
       " 0.92690152984270635]"
      ]
     },
     "execution_count": 32,
     "metadata": {},
     "output_type": "execute_result"
    }
   ],
   "source": [
    "cv_all = cross_validation.KFold(Xtrain_total.shape[0], n_folds=5, shuffle=True)\n",
    "for train_indices, test_indices in cv_all:\n",
    "    print('Train: %s | test: %s' % (train_indices, test_indices))\n",
    "rf_all = RandomForestClassifier(n_estimators=500, max_features=\"sqrt\", criterion=\"gini\", bootstrap=False,\n",
    "                                min_samples_leaf=1, min_samples_split=3, max_depth= None, class_weight=\"auto\",\n",
    "                                n_jobs=-1)\n",
    "[rf_all.fit(Xtrain_total, ytrain_total).score(Xtest_total, ytest_total)\n",
    "         for train, test in cv_all]"
   ]
  },
  {
   "cell_type": "markdown",
   "metadata": {},
   "source": [
    "## prediction errors of each classifiers as weights for stack_estimate\n",
    "[**Explanation**]: The rf_all estimator in last branch of stack_estimate() is the last instance and should ideally classify to classes 1,5,6,7,8,9. But sometimes the classifier finds a class, that should have been caught up earlier by the other estimators for classes 2,3,4. In that case, the last branch has to decide, wich class to choose.\n",
    "\n",
    "The prediction errors can be used as weights. This means, the class estimator with the highest prediction error will be chosen more often by random choice, because it is more likely, that this estimator was wrong in first place and did not recognize 'his' class. Thus estimators with higher error rate get _\"penalized\"_.\n",
    "\n",
    "The prediction errors need to be normalized and sum up to 1. "
   ]
  },
  {
   "cell_type": "code",
   "execution_count": 33,
   "metadata": {
    "collapsed": false
   },
   "outputs": [
    {
     "name": "stdout",
     "output_type": "stream",
     "text": [
      "0.10935\n"
     ]
    }
   ],
   "source": [
    "#single score of rf1\n",
    "weight_cl2 = 1 - rf1.score(Xtest_class2, ytest_class2)\n",
    "weight_cl2 = np.round(weight_cl2,5)\n",
    "print(weight_cl2)"
   ]
  },
  {
   "cell_type": "code",
   "execution_count": 34,
   "metadata": {
    "collapsed": false
   },
   "outputs": [
    {
     "name": "stdout",
     "output_type": "stream",
     "text": [
      "0.10019\n"
     ]
    }
   ],
   "source": [
    "#single score of rf2\n",
    "weight_cl3 = 1 - rf2.score(Xtest_class3, ytest_class3)\n",
    "weight_cl3 = np.round(weight_cl3,5)\n",
    "print (weight_cl3)"
   ]
  },
  {
   "cell_type": "code",
   "execution_count": 35,
   "metadata": {
    "collapsed": false
   },
   "outputs": [
    {
     "name": "stdout",
     "output_type": "stream",
     "text": [
      "0.03162\n"
     ]
    }
   ],
   "source": [
    "#single score of rf3, this is for class 4\n",
    "weight_cl4 = 1 - rf3.score(Xtest_class4, ytest_class4)\n",
    "weight_cl4=np.round(weight_cl4,5)\n",
    "print (weight_cl4)"
   ]
  },
  {
   "cell_type": "code",
   "execution_count": 36,
   "metadata": {
    "collapsed": false
   },
   "outputs": [
    {
     "name": "stdout",
     "output_type": "stream",
     "text": [
      "sum error: 0.24116\n",
      "normalized weight class2 error: 0.453433405208\n",
      "normalized weight class3 error: 0.415450323437\n",
      "normalized weight class4 error: 0.131116271355\n"
     ]
    }
   ],
   "source": [
    "#Calculate normalized weights, that sum up to 1\n",
    "#(dadurch kann man randonm choice aufrufen, summe muss 1 sein)\n",
    "sum_error = weight_cl2+weight_cl3+weight_cl4\n",
    "print(\"sum error: \" + str(sum_error))\n",
    "weightcl2_norm = weight_cl2 / sum_error\n",
    "weightcl3_norm = weight_cl3 / sum_error\n",
    "weightcl4_norm = weight_cl4 / sum_error\n",
    "print(\"normalized weight class2 error: \" + str(weightcl2_norm))\n",
    "print(\"normalized weight class3 error: \" + str(weightcl3_norm))\n",
    "print(\"normalized weight class4 error: \" + str(weightcl4_norm))"
   ]
  },
  {
   "cell_type": "markdown",
   "metadata": {},
   "source": [
    "## Custom combination of estimators\n",
    "[**Explanation**]: This function combines the estimators and predicts the class of a given dataframe (df) row (i). There is a pre-made OneVsR meta classifier in the scikit-learn package, that can also be used here. This function is a custom alternative.\n",
    "Since each classifier is trained on a a modified OvR dataset, the return value of each if-branch is coded differently and needs to be translated back. This function therefore uses the LabelEncoder()."
   ]
  },
  {
   "cell_type": "code",
   "execution_count": 41,
   "metadata": {
    "collapsed": false
   },
   "outputs": [
    {
     "data": {
      "text/plain": [
       "'Class_3'"
      ]
     },
     "execution_count": 41,
     "metadata": {},
     "output_type": "execute_result"
    }
   ],
   "source": [
    "#Weighted Random Choice of rest classes, if last else branch classifies as \"other\"\n",
    "rest_234 = ['Class_2', 'Class_3', 'Class_4']\n",
    "np.asscalar(np.random.choice(rest_234, 1, p=[weightcl2_norm, weightcl3_norm,weightcl4_norm]))"
   ]
  },
  {
   "cell_type": "code",
   "execution_count": 26,
   "metadata": {
    "collapsed": false
   },
   "outputs": [
    {
     "ename": "NameError",
     "evalue": "name 'rnd_weight_choice' is not defined",
     "output_type": "error",
     "traceback": [
      "\u001b[1;31m---------------------------------------------------------------------------\u001b[0m",
      "\u001b[1;31mNameError\u001b[0m                                 Traceback (most recent call last)",
      "\u001b[1;32m<ipython-input-26-19bd8de9a512>\u001b[0m in \u001b[0;36m<module>\u001b[1;34m()\u001b[0m\n\u001b[1;32m----> 1\u001b[1;33m \u001b[0mrnd_weight_choice\u001b[0m\u001b[1;33m\u001b[0m\u001b[0m\n\u001b[0m",
      "\u001b[1;31mNameError\u001b[0m: name 'rnd_weight_choice' is not defined"
     ]
    }
   ],
   "source": [
    "rnd_weight_choice"
   ]
  },
  {
   "cell_type": "code",
   "execution_count": 42,
   "metadata": {
    "collapsed": false
   },
   "outputs": [],
   "source": [
    "#THIS CODE NEEDS TO BE WRAPPED UP IN MY NEW FUNCTION DEF LATER\n",
    "#SO IT CAN BE CALLED WITH THE SPEEDY LAMBDA OPERATOR\n",
    "#Also: scikit pipelin might be useful here\n",
    "def stack_estimate(df,i): #(row)\n",
    "    restclasses = [0,1,2,3,4,5] #coded representation of restclasses in rf_all model, 6 would mean its one of the other classes\n",
    "    var = df #row\n",
    "    var = var.iloc[i]\n",
    "\n",
    "    if rf1.predict(var)==0:\n",
    "        return \"Class_2\" \n",
    "    elif rf2.predict(var)==0:     \n",
    "        return \"Class_3\"\n",
    "    elif rf3.predict(var)==0:\n",
    "        return \"Class_4\" \n",
    "    elif (rf_all.predict(var)) in restclasses:\n",
    "        return uncode_classes(rf_all.predict(var))\n",
    "    else: \n",
    "        #print(\"rf_all: it's one of the other classes\")\n",
    "        return np.asscalar(np.random.choice(rest_234, 1, p=[weightcl2_norm, weightcl3_norm,weightcl4_norm]))\n",
    "\n",
    "       #asscalar sadece bir tek örnek veriyor, array olarak vermiyor\n",
    "    #else:\n",
    "        #problist = rf_all.predict_proba(var)\n",
    "        #problist = np.delete(problist, problist.argmax())\n",
    "        #print (\"reached last else part for index: \" + str(i) + \n",
    "         #      \"...taking 2nd highest probability class: \" + str(problist.argmax()))\n",
    "        #return uncode_classes(problist.argmax())\n",
    "        #print(\"rf_all: it's one of the other classes\")\n",
    "        #return 'other'\n",
    "        #return problist.argmax() #das ist falsch und muss ersetzt werden mit encoder irgendwie..\n",
    " \n",
    "    \n",
    "#TODO still: append the prediction result to an array like y_total (array of dtype=np.int32)\n",
    "#so its comparable\n",
    "\n",
    "#check scikit oneVsRest and pipeline"
   ]
  },
  {
   "cell_type": "code",
   "execution_count": 43,
   "metadata": {
    "collapsed": false
   },
   "outputs": [
    {
     "data": {
      "text/plain": [
       "'Class_3'"
      ]
     },
     "execution_count": 43,
     "metadata": {},
     "output_type": "execute_result"
    }
   ],
   "source": [
    "stack_estimate(Xtest_final, 9882)  #Xtest_final.iloc[[14333]]"
   ]
  },
  {
   "cell_type": "code",
   "execution_count": 44,
   "metadata": {
    "collapsed": false
   },
   "outputs": [
    {
     "data": {
      "text/plain": [
       "3"
      ]
     },
     "execution_count": 44,
     "metadata": {},
     "output_type": "execute_result"
    }
   ],
   "source": [
    "ytest_final[9882] + 1 #class index starts at 0 here, so 0 means class1, 1 means class2"
   ]
  },
  {
   "cell_type": "code",
   "execution_count": 45,
   "metadata": {
    "collapsed": false
   },
   "outputs": [
    {
     "data": {
      "text/plain": [
       "578"
      ]
     },
     "execution_count": 45,
     "metadata": {},
     "output_type": "execute_result"
    }
   ],
   "source": [
    "#b = a[a>threshold]\n",
    "(ytest_final[ytest_final==0]).size"
   ]
  },
  {
   "cell_type": "markdown",
   "metadata": {},
   "source": [
    "## Actual application of custom stack_estimate() on whole dataset\n",
    "[**Explanation**]: This is a first naive iterative application of the cutom function to classify a whole dataset and can be replaced with a more sophisticated pythonic approach via lambda or list comprehensive.\n",
    "\n",
    "**Runtime**: O(n), approximately 2 hours for a sampled dataset (30% test-partition, 18k sampled)"
   ]
  },
  {
   "cell_type": "code",
   "execution_count": 38,
   "metadata": {
    "collapsed": false
   },
   "outputs": [
    {
     "name": "stdout",
     "output_type": "stream",
     "text": [
      "4.358799934387207\n"
     ]
    }
   ],
   "source": [
    "#took 2 hours, but with printing of last else switch...so maybe it can be done in less time too, 02.09.2015\n",
    "pred_array = []\n",
    "i = 0\n",
    "start = time()\n",
    "\n",
    "for i, row in Xtest_index.iterrows():\n",
    "        #print(\"class is: \" + str(val) + \" for rowindex: \" + str(i))\n",
    "        predclass = stack_estimate(Xtest_index,i)\n",
    "        pred_array.append(predclass)\n",
    "        #print(index)\n",
    "        i = i + 1\n",
    "        if (i==10):   #Xtest_total.shape[0]\n",
    "            break\n",
    "print(time()-start)\n",
    "#this works and takes 1,8hours for all 18.564 observations of the 30% testsplit"
   ]
  },
  {
   "cell_type": "markdown",
   "metadata": {},
   "source": [
    "## Evluation via classification report, prediction score and confusion matrix\n",
    "[**Explanation**]: There are several ways of evaluation. The overview of all TP/FP and the overall prediction accuracy are being used here. Additionally a confusion matrix is being plotted to visualize the misclassifications."
   ]
  },
  {
   "cell_type": "code",
   "execution_count": 567,
   "metadata": {
    "collapsed": false
   },
   "outputs": [],
   "source": [
    "p = shift2(pred_array, 1)"
   ]
  },
  {
   "cell_type": "code",
   "execution_count": 561,
   "metadata": {
    "collapsed": false
   },
   "outputs": [
    {
     "data": {
      "text/plain": [
       "array([6, 4, 7, ..., 3, 7, 3], dtype=int64)"
      ]
     },
     "execution_count": 561,
     "metadata": {},
     "output_type": "execute_result"
    }
   ],
   "source": [
    "ytest_final #= le_yfinal.transform(ytest_final)"
   ]
  },
  {
   "cell_type": "code",
   "execution_count": 568,
   "metadata": {
    "collapsed": false
   },
   "outputs": [
    {
     "data": {
      "text/plain": [
       "'Class_3'"
      ]
     },
     "execution_count": 568,
     "metadata": {},
     "output_type": "execute_result"
    }
   ],
   "source": [
    "p[9882]"
   ]
  },
  {
   "cell_type": "code",
   "execution_count": 46,
   "metadata": {
    "collapsed": false
   },
   "outputs": [],
   "source": [
    "#Hilfsfunktion um Ergebnisarray eine Pos nach rechts zu schieben. Fixbar in der Schleife wahrscheinlich\n",
    "def shift2(arr,num):\n",
    "    arr=np.roll(arr,num)\n",
    "    if num<0:\n",
    "         np.put(arr,range(len(arr)+num,len(arr)),np.nan)\n",
    "    elif num > 0:\n",
    "         np.put(arr,range(num),np.nan)\n",
    "    return arr"
   ]
  },
  {
   "cell_type": "code",
   "execution_count": 33,
   "metadata": {
    "collapsed": false
   },
   "outputs": [
    {
     "data": {
      "text/plain": [
       "array([6, 4, 7, 5, 7, 5, 1, 5, 8, 2, 8, 2, 7, 1, 6, 5, 1, 2, 2, 3], dtype=int64)"
      ]
     },
     "execution_count": 33,
     "metadata": {},
     "output_type": "execute_result"
    }
   ],
   "source": [
    "#String Werte müssen noch in numerische überetzt werden! labelencoder?\n",
    "#ytest_final = le_yfinal.transform(ytest_final)\n",
    "ytest_final[:20]\n",
    "#flatresults[:30]"
   ]
  },
  {
   "cell_type": "code",
   "execution_count": 463,
   "metadata": {
    "collapsed": false
   },
   "outputs": [
    {
     "data": {
      "text/plain": [
       "array(['Class_7', 'Class_5', 'Class_8', 'Class_6', 'Class_8', 'Class_6',\n",
       "       'Class_2', 'Class_6', 'Class_9', 'Class_3', 'Class_9', 'Class_3',\n",
       "       'Class_8', 'Class_2', 'Class_7', 'Class_6', 'Class_2', 'Class_3',\n",
       "       'Class_3', 'Class_4', 'Class_1', 'Class_6', 'Class_2', 'Class_8',\n",
       "       'Class_4', 'Class_2', 'Class_5', 'Class_9', 'Class_2', 'Class_8'], dtype=object)"
      ]
     },
     "execution_count": 463,
     "metadata": {},
     "output_type": "execute_result"
    }
   ],
   "source": [
    "ytest_final[:30]"
   ]
  },
  {
   "cell_type": "code",
   "execution_count": 573,
   "metadata": {
    "collapsed": true
   },
   "outputs": [],
   "source": [
    "ytest_final = le_yfinal.inverse_transform(ytest_final)"
   ]
  },
  {
   "cell_type": "code",
   "execution_count": 554,
   "metadata": {
    "collapsed": false
   },
   "outputs": [],
   "source": [
    "p = pred_array"
   ]
  },
  {
   "cell_type": "code",
   "execution_count": 598,
   "metadata": {
    "collapsed": false
   },
   "outputs": [],
   "source": [
    "flatresults = np.append(flatresults, 'Class_5')"
   ]
  },
  {
   "cell_type": "code",
   "execution_count": 602,
   "metadata": {
    "collapsed": false
   },
   "outputs": [
    {
     "data": {
      "text/plain": [
       "'Class_5'"
      ]
     },
     "execution_count": 602,
     "metadata": {},
     "output_type": "execute_result"
    }
   ],
   "source": [
    "flatresults[flatresults.shape[0]-1]"
   ]
  },
  {
   "cell_type": "code",
   "execution_count": 533,
   "metadata": {
    "collapsed": false
   },
   "outputs": [],
   "source": [
    "ytest_final=le_yfinal.inverse_transform(ytest_final)"
   ]
  },
  {
   "cell_type": "code",
   "execution_count": 592,
   "metadata": {
    "collapsed": false
   },
   "outputs": [
    {
     "data": {
      "text/plain": [
       "'Class_4'"
      ]
     },
     "execution_count": 592,
     "metadata": {},
     "output_type": "execute_result"
    }
   ],
   "source": [
    "ytest_final[ytest_final.shape[0]-1]"
   ]
  },
  {
   "cell_type": "code",
   "execution_count": 603,
   "metadata": {
    "collapsed": false
   },
   "outputs": [
    {
     "name": "stdout",
     "output_type": "stream",
     "text": [
      "             precision    recall  f1-score   support\n",
      "\n",
      "    Class_1       0.77      0.49      0.60       578\n",
      "    Class_2       0.71      0.84      0.77      4793\n",
      "    Class_3       0.56      0.48      0.52      2379\n",
      "    Class_4       0.52      0.37      0.44       825\n",
      "    Class_5       0.97      0.96      0.96       815\n",
      "    Class_6       0.95      0.94      0.94      4232\n",
      "    Class_7       0.78      0.58      0.67       833\n",
      "    Class_8       0.89      0.93      0.91      2590\n",
      "    Class_9       0.86      0.89      0.88      1519\n",
      "\n",
      "avg / total       0.79      0.80      0.79     18564\n",
      "\n"
     ]
    }
   ],
   "source": [
    "print(classification_report(ytest_final, flatresults, target_names=otto_target_names))"
   ]
  },
  {
   "cell_type": "code",
   "execution_count": 617,
   "metadata": {
    "collapsed": false,
    "scrolled": false
   },
   "outputs": [
    {
     "data": {
      "text/plain": [
       "array(['Class_7', 'Class_5', 'Class_8', ..., 'Class_2', 'Class_8',\n",
       "       'Class_5'], \n",
       "      dtype='<U7')"
      ]
     },
     "execution_count": 617,
     "metadata": {},
     "output_type": "execute_result"
    }
   ],
   "source": [
    "flatresults #= np.asarray(p).flatten()"
   ]
  },
  {
   "cell_type": "code",
   "execution_count": 539,
   "metadata": {
    "collapsed": false
   },
   "outputs": [
    {
     "data": {
      "text/plain": [
       "'Class_7'"
      ]
     },
     "execution_count": 539,
     "metadata": {},
     "output_type": "execute_result"
    }
   ],
   "source": [
    "ytest_final[0]"
   ]
  },
  {
   "cell_type": "code",
   "execution_count": 548,
   "metadata": {
    "collapsed": false
   },
   "outputs": [
    {
     "data": {
      "text/plain": [
       "'Class_7'"
      ]
     },
     "execution_count": 548,
     "metadata": {},
     "output_type": "execute_result"
    }
   ],
   "source": [
    "flatresults[0]"
   ]
  },
  {
   "cell_type": "code",
   "execution_count": 620,
   "metadata": {
    "collapsed": false
   },
   "outputs": [],
   "source": [
    "np.savetxt('stackresults_04092015_unsampled.csv', flatresults, delimiter=\" \", fmt=\"%s\") "
   ]
  },
  {
   "cell_type": "code",
   "execution_count": 604,
   "metadata": {
    "collapsed": false
   },
   "outputs": [
    {
     "data": {
      "text/plain": [
       "array([[ 284,   13,   13,    3,    3,   34,   12,   95,  121],\n",
       "       [   1, 4047,  563,  129,    6,    3,   32,    8,    4],\n",
       "       [   1, 1102, 1141,  103,    0,    1,   26,    4,    1],\n",
       "       [   0,  307,  186,  309,    4,   14,    2,    1,    2],\n",
       "       [   1,   16,   10,    3,  784,    0,    0,    1,    0],\n",
       "       [  13,   37,   26,   15,    0, 3976,   43,   72,   50],\n",
       "       [  16,  103,   74,   27,    7,   52,  484,   65,    5],\n",
       "       [  23,   24,   17,    4,    3,   69,   12, 2408,   30],\n",
       "       [  29,   19,   10,    2,    3,   42,   10,   47, 1357]])"
      ]
     },
     "execution_count": 604,
     "metadata": {},
     "output_type": "execute_result"
    }
   ],
   "source": [
    "from sklearn.metrics import confusion_matrix\n",
    "#confusion_matrix(y_test, y_pred)\n",
    "#y_test.shape\n",
    "confusion_matrix(ytest_final, flatresults)"
   ]
  },
  {
   "cell_type": "code",
   "execution_count": 612,
   "metadata": {
    "collapsed": false
   },
   "outputs": [
    {
     "name": "stdout",
     "output_type": "stream",
     "text": [
      "precision is: 0.791978410145\n",
      "accuracy is: 0.796703296703\n"
     ]
    }
   ],
   "source": [
    "#evaluating  rows 0 to 299 fortesting\n",
    "print(\"precision is: \" + str(precision_score(ytest_final, flatresults, average='weighted'))) \n",
    "print(\"accuracy is: \" + str(accuracy_score(ytest_final, flatresults)))"
   ]
  },
  {
   "cell_type": "code",
   "execution_count": 47,
   "metadata": {
    "collapsed": false
   },
   "outputs": [
    {
     "data": {
      "text/plain": [
       "array(['Class_1', 'Class_2', 'Class_3', 'Class_4', 'Class_5', 'Class_6',\n",
       "       'Class_7', 'Class_8', 'Class_9'], \n",
       "      dtype='<U7')"
      ]
     },
     "execution_count": 47,
     "metadata": {},
     "output_type": "execute_result"
    }
   ],
   "source": [
    "#Target names for axis description of confusion matrix plot\n",
    "otto_target_names = np.array(['Class_1', 'Class_2', 'Class_3', 'Class_4', 'Class_5',\n",
    "       'Class_6', 'Class_7', 'Class_8', 'Class_9'])\n",
    "otto_target_names"
   ]
  },
  {
   "cell_type": "code",
   "execution_count": 621,
   "metadata": {
    "collapsed": false
   },
   "outputs": [
    {
     "name": "stdout",
     "output_type": "stream",
     "text": [
      "Confusion matrix, without normalization\n",
      "[[ 284   13   13    3    3   34   12   95  121]\n",
      " [   1 4047  563  129    6    3   32    8    4]\n",
      " [   1 1102 1141  103    0    1   26    4    1]\n",
      " [   0  307  186  309    4   14    2    1    2]\n",
      " [   1   16   10    3  784    0    0    1    0]\n",
      " [  13   37   26   15    0 3976   43   72   50]\n",
      " [  16  103   74   27    7   52  484   65    5]\n",
      " [  23   24   17    4    3   69   12 2408   30]\n",
      " [  29   19   10    2    3   42   10   47 1357]]\n"
     ]
    }
   ],
   "source": [
    "#Plotting of the confusion matrix via matplotlib (matlab-style)\n",
    "import matplotlib.pyplot as plt\n",
    "def plot_confusion_matrix(cm, title='Confusion matrix', cmap=plt.cm.Blues):\n",
    "    plt.imshow(cm, interpolation='nearest', cmap=cmap)\n",
    "    plt.title(title)\n",
    "    plt.colorbar()\n",
    "    tick_marks = np.arange(len(otto_target_names))\n",
    "    plt.xticks(tick_marks, otto_target_names, rotation=45)\n",
    "    plt.yticks(tick_marks, otto_target_names)\n",
    "    plt.tight_layout()\n",
    "    plt.ylabel('True label')\n",
    "    plt.xlabel('Predicted label')\n",
    "\n",
    "\n",
    "# Compute confusion matrix\n",
    "cm = confusion_matrix(ytest_final, flatresults)\n",
    "np.set_printoptions(precision=2)\n",
    "print('Confusion matrix, without normalization')\n",
    "print(cm)\n",
    "plt.figure()\n",
    "plot_confusion_matrix(cm)\n",
    "\n",
    "plt.show()"
   ]
  },
  {
   "cell_type": "code",
   "execution_count": 85,
   "metadata": {
    "collapsed": false
   },
   "outputs": [
    {
     "data": {
      "image/png": "[encoded data removed]",
      "text/plain": [
       "<IPython.core.display.Image object>"
      ]
     },
     "execution_count": 85,
     "metadata": {},
     "output_type": "execute_result"
    }
   ],
   "source": [
    "from IPython.core.display import Image \n",
    "Image(filename='C:/Users/acelikkaya/D&A/First Steps/confusionmatrix_RF_80percent_21082015.png') "
   ]
  },
  {
   "cell_type": "markdown",
   "metadata": {},
   "source": [
    "## Hyperparameter optimization with GridSearchCV & RandomizedSearchCV\n",
    "## (for Unsampled)"
   ]
  },
  {
   "cell_type": "code",
   "execution_count": 34,
   "metadata": {
    "collapsed": false
   },
   "outputs": [
    {
     "data": {
      "text/plain": [
       "10"
      ]
     },
     "execution_count": 34,
     "metadata": {},
     "output_type": "execute_result"
    }
   ],
   "source": [
    "#Random Forest works best with sqrt(#features) according to different sources\n",
    "sqrtfeat = np.sqrt(x_final.shape[1]) #need int, sqrt generates float. round and cast to int64\n",
    "sqrtfeat = np.int64(np.round(sqrtfeat))\n",
    "sqrtfeat"
   ]
  },
  {
   "cell_type": "code",
   "execution_count": 68,
   "metadata": {
    "collapsed": true
   },
   "outputs": [],
   "source": [
    "# use a full grid over all parameters WITH NUMBER TREES\n",
    "param_grid_ManyTrees = {\n",
    "              \"class_weight\": [\"auto\", \"subsample\", None], \n",
    "              \"n_estimators\": [200,500,1000],\n",
    "              \"max_depth\": [3, None],\n",
    "              \"max_features\": [10, 30],\n",
    "              \"min_samples_split\": [3, 10, 15],\n",
    "              \"min_samples_leaf\": [3, 10, 15],\n",
    "              \"bootstrap\": [True, False],\n",
    "              \"criterion\": [\"gini\", \"entropy\"]}\n",
    "#max features with sqrt and log2 was bad. return to fix number like above on top of code.\n",
    "\n",
    "# Utility function to report best scores\n",
    "def report(grid_scores, n_top=5):\n",
    "    top_scores = sorted(grid_scores, key=itemgetter(1), reverse=True)[:n_top]\n",
    "    for i, score in enumerate(top_scores):\n",
    "        print(\"Model with rank: {0}\".format(i + 1))\n",
    "        print(\"Mean validation score: {0:.3f} (std: {1:.3f})\".format(\n",
    "              score.mean_validation_score,\n",
    "              np.std(score.cv_validation_scores)))\n",
    "        print(\"Parameters: {0}\".format(score.parameters))\n",
    "        print(\"\")"
   ]
  },
  {
   "cell_type": "code",
   "execution_count": 69,
   "metadata": {
    "collapsed": false
   },
   "outputs": [
    {
     "name": "stdout",
     "output_type": "stream",
     "text": [
      "RandomizedSearchCV took 676.51 seconds for 30 candidates parameter settings.\n",
      "Model with rank: 1\n",
      "Mean validation score: 0.760 (std: 0.003)\n",
      "Parameters: {'criterion': 'entropy', 'n_estimators': 500, 'bootstrap': False, 'min_samples_split': 10, 'max_features': 10, 'min_samples_leaf': 3, 'max_depth': None, 'class_weight': 'auto'}\n",
      "\n",
      "Model with rank: 2\n",
      "Mean validation score: 0.754 (std: 0.006)\n",
      "Parameters: {'criterion': 'gini', 'n_estimators': 200, 'bootstrap': False, 'min_samples_split': 3, 'max_features': 30, 'min_samples_leaf': 3, 'max_depth': None, 'class_weight': 'subsample'}\n",
      "\n",
      "Model with rank: 3\n",
      "Mean validation score: 0.749 (std: 0.003)\n",
      "Parameters: {'criterion': 'entropy', 'n_estimators': 1000, 'bootstrap': True, 'min_samples_split': 10, 'max_features': 30, 'min_samples_leaf': 3, 'max_depth': None, 'class_weight': 'subsample'}\n",
      "\n",
      "Model with rank: 4\n",
      "Mean validation score: 0.748 (std: 0.005)\n",
      "Parameters: {'criterion': 'gini', 'n_estimators': 1000, 'bootstrap': True, 'min_samples_split': 15, 'max_features': 30, 'min_samples_leaf': 3, 'max_depth': None, 'class_weight': None}\n",
      "\n",
      "Model with rank: 5\n",
      "Mean validation score: 0.748 (std: 0.006)\n",
      "Parameters: {'criterion': 'gini', 'n_estimators': 200, 'bootstrap': True, 'min_samples_split': 10, 'max_features': 30, 'min_samples_leaf': 3, 'max_depth': None, 'class_weight': 'subsample'}\n",
      "\n"
     ]
    }
   ],
   "source": [
    "#RandomizedSearchCV optimizing \n",
    "from sklearn.grid_search import GridSearchCV, RandomizedSearchCV\n",
    "from time import time\n",
    "from operator import itemgetter\n",
    "from scipy.stats import randint as sp_randint\n",
    "\n",
    "n_iter_search = 30\n",
    "random_search = RandomizedSearchCV(rf_weighted, param_distributions=param_grid_ManyTrees,\n",
    "                                   n_iter=n_iter_search, cv=3)\n",
    "\n",
    "start = time()\n",
    "random_search.fit(Xbal_train, ybal_train)\n",
    "print(\"RandomizedSearchCV took %.2f seconds for %d candidates\"\n",
    "      \" parameter settings.\" % ((time() - start), n_iter_search))\n",
    "report(random_search.grid_scores_)\n",
    "\n",
    "#my TODOs:\n",
    "#try again with 300 instead of 100 trees, re-introduce sqrtfeat as maxfeature.\n",
    "#try to exclude/include more informative features by finding"
   ]
  },
  {
   "cell_type": "code",
   "execution_count": 46,
   "metadata": {
    "collapsed": true
   },
   "outputs": [
    {
     "ename": "KeyboardInterrupt",
     "evalue": "",
     "output_type": "error",
     "traceback": [
      "\u001b[1;31m---------------------------------------------------------------------------\u001b[0m",
      "\u001b[1;31mKeyboardInterrupt\u001b[0m                         Traceback (most recent call last)",
      "\u001b[1;32m<ipython-input-46-35cf0b1ee775>\u001b[0m in \u001b[0;36m<module>\u001b[1;34m()\u001b[0m\n\u001b[0;32m      2\u001b[0m \u001b[0mgrid_search\u001b[0m \u001b[1;33m=\u001b[0m \u001b[0mGridSearchCV\u001b[0m\u001b[1;33m(\u001b[0m\u001b[0mrf1\u001b[0m\u001b[1;33m,\u001b[0m \u001b[0mparam_grid\u001b[0m\u001b[1;33m=\u001b[0m\u001b[0mparam_grid_ManyTrees\u001b[0m\u001b[1;33m)\u001b[0m \u001b[1;31m#add cv=kfold??\u001b[0m\u001b[1;33m\u001b[0m\u001b[0m\n\u001b[0;32m      3\u001b[0m \u001b[0mstart\u001b[0m \u001b[1;33m=\u001b[0m \u001b[0mtime\u001b[0m\u001b[1;33m(\u001b[0m\u001b[1;33m)\u001b[0m\u001b[1;33m\u001b[0m\u001b[0m\n\u001b[1;32m----> 4\u001b[1;33m \u001b[0mgrid_search\u001b[0m\u001b[1;33m.\u001b[0m\u001b[0mfit\u001b[0m\u001b[1;33m(\u001b[0m\u001b[0mXtrain_class2\u001b[0m\u001b[1;33m,\u001b[0m \u001b[0mytrain_class2\u001b[0m\u001b[1;33m)\u001b[0m\u001b[1;33m\u001b[0m\u001b[0m\n\u001b[0m\u001b[0;32m      5\u001b[0m print(\"GridSearchCV took %.2f seconds for %d candidate parameter settings.\"\n\u001b[0;32m      6\u001b[0m       % (time() - start, len(grid_search.grid_scores_)))\n",
      "\u001b[1;32mC:\\Users\\acelikkaya\\AppData\\Local\\Continuum\\Anaconda3\\lib\\site-packages\\sklearn\\grid_search.py\u001b[0m in \u001b[0;36mfit\u001b[1;34m(self, X, y)\u001b[0m\n\u001b[0;32m    730\u001b[0m \u001b[1;33m\u001b[0m\u001b[0m\n\u001b[0;32m    731\u001b[0m         \"\"\"\n\u001b[1;32m--> 732\u001b[1;33m         \u001b[1;32mreturn\u001b[0m \u001b[0mself\u001b[0m\u001b[1;33m.\u001b[0m\u001b[0m_fit\u001b[0m\u001b[1;33m(\u001b[0m\u001b[0mX\u001b[0m\u001b[1;33m,\u001b[0m \u001b[0my\u001b[0m\u001b[1;33m,\u001b[0m \u001b[0mParameterGrid\u001b[0m\u001b[1;33m(\u001b[0m\u001b[0mself\u001b[0m\u001b[1;33m.\u001b[0m\u001b[0mparam_grid\u001b[0m\u001b[1;33m)\u001b[0m\u001b[1;33m)\u001b[0m\u001b[1;33m\u001b[0m\u001b[0m\n\u001b[0m\u001b[0;32m    733\u001b[0m \u001b[1;33m\u001b[0m\u001b[0m\n\u001b[0;32m    734\u001b[0m \u001b[1;33m\u001b[0m\u001b[0m\n",
      "\u001b[1;32mC:\\Users\\acelikkaya\\AppData\\Local\\Continuum\\Anaconda3\\lib\\site-packages\\sklearn\\grid_search.py\u001b[0m in \u001b[0;36m_fit\u001b[1;34m(self, X, y, parameter_iterable)\u001b[0m\n\u001b[0;32m    503\u001b[0m                                     \u001b[0mself\u001b[0m\u001b[1;33m.\u001b[0m\u001b[0mfit_params\u001b[0m\u001b[1;33m,\u001b[0m \u001b[0mreturn_parameters\u001b[0m\u001b[1;33m=\u001b[0m\u001b[1;32mTrue\u001b[0m\u001b[1;33m,\u001b[0m\u001b[1;33m\u001b[0m\u001b[0m\n\u001b[0;32m    504\u001b[0m                                     error_score=self.error_score)\n\u001b[1;32m--> 505\u001b[1;33m                 \u001b[1;32mfor\u001b[0m \u001b[0mparameters\u001b[0m \u001b[1;32min\u001b[0m \u001b[0mparameter_iterable\u001b[0m\u001b[1;33m\u001b[0m\u001b[0m\n\u001b[0m\u001b[0;32m    506\u001b[0m                 for train, test in cv)\n\u001b[0;32m    507\u001b[0m \u001b[1;33m\u001b[0m\u001b[0m\n",
      "\u001b[1;32mC:\\Users\\acelikkaya\\AppData\\Local\\Continuum\\Anaconda3\\lib\\site-packages\\sklearn\\externals\\joblib\\parallel.py\u001b[0m in \u001b[0;36m__call__\u001b[1;34m(self, iterable)\u001b[0m\n\u001b[0;32m    657\u001b[0m             \u001b[0mself\u001b[0m\u001b[1;33m.\u001b[0m\u001b[0m_iterating\u001b[0m \u001b[1;33m=\u001b[0m \u001b[1;32mTrue\u001b[0m\u001b[1;33m\u001b[0m\u001b[0m\n\u001b[0;32m    658\u001b[0m             \u001b[1;32mfor\u001b[0m \u001b[0mfunction\u001b[0m\u001b[1;33m,\u001b[0m \u001b[0margs\u001b[0m\u001b[1;33m,\u001b[0m \u001b[0mkwargs\u001b[0m \u001b[1;32min\u001b[0m \u001b[0miterable\u001b[0m\u001b[1;33m:\u001b[0m\u001b[1;33m\u001b[0m\u001b[0m\n\u001b[1;32m--> 659\u001b[1;33m                 \u001b[0mself\u001b[0m\u001b[1;33m.\u001b[0m\u001b[0mdispatch\u001b[0m\u001b[1;33m(\u001b[0m\u001b[0mfunction\u001b[0m\u001b[1;33m,\u001b[0m \u001b[0margs\u001b[0m\u001b[1;33m,\u001b[0m \u001b[0mkwargs\u001b[0m\u001b[1;33m)\u001b[0m\u001b[1;33m\u001b[0m\u001b[0m\n\u001b[0m\u001b[0;32m    660\u001b[0m \u001b[1;33m\u001b[0m\u001b[0m\n\u001b[0;32m    661\u001b[0m             \u001b[1;32mif\u001b[0m \u001b[0mpre_dispatch\u001b[0m \u001b[1;33m==\u001b[0m \u001b[1;34m\"all\"\u001b[0m \u001b[1;32mor\u001b[0m \u001b[0mn_jobs\u001b[0m \u001b[1;33m==\u001b[0m \u001b[1;36m1\u001b[0m\u001b[1;33m:\u001b[0m\u001b[1;33m\u001b[0m\u001b[0m\n",
      "\u001b[1;32mC:\\Users\\acelikkaya\\AppData\\Local\\Continuum\\Anaconda3\\lib\\site-packages\\sklearn\\externals\\joblib\\parallel.py\u001b[0m in \u001b[0;36mdispatch\u001b[1;34m(self, func, args, kwargs)\u001b[0m\n\u001b[0;32m    404\u001b[0m         \"\"\"\n\u001b[0;32m    405\u001b[0m         \u001b[1;32mif\u001b[0m \u001b[0mself\u001b[0m\u001b[1;33m.\u001b[0m\u001b[0m_pool\u001b[0m \u001b[1;32mis\u001b[0m \u001b[1;32mNone\u001b[0m\u001b[1;33m:\u001b[0m\u001b[1;33m\u001b[0m\u001b[0m\n\u001b[1;32m--> 406\u001b[1;33m             \u001b[0mjob\u001b[0m \u001b[1;33m=\u001b[0m \u001b[0mImmediateApply\u001b[0m\u001b[1;33m(\u001b[0m\u001b[0mfunc\u001b[0m\u001b[1;33m,\u001b[0m \u001b[0margs\u001b[0m\u001b[1;33m,\u001b[0m \u001b[0mkwargs\u001b[0m\u001b[1;33m)\u001b[0m\u001b[1;33m\u001b[0m\u001b[0m\n\u001b[0m\u001b[0;32m    407\u001b[0m             \u001b[0mindex\u001b[0m \u001b[1;33m=\u001b[0m \u001b[0mlen\u001b[0m\u001b[1;33m(\u001b[0m\u001b[0mself\u001b[0m\u001b[1;33m.\u001b[0m\u001b[0m_jobs\u001b[0m\u001b[1;33m)\u001b[0m\u001b[1;33m\u001b[0m\u001b[0m\n\u001b[0;32m    408\u001b[0m             \u001b[1;32mif\u001b[0m \u001b[1;32mnot\u001b[0m \u001b[0m_verbosity_filter\u001b[0m\u001b[1;33m(\u001b[0m\u001b[0mindex\u001b[0m\u001b[1;33m,\u001b[0m \u001b[0mself\u001b[0m\u001b[1;33m.\u001b[0m\u001b[0mverbose\u001b[0m\u001b[1;33m)\u001b[0m\u001b[1;33m:\u001b[0m\u001b[1;33m\u001b[0m\u001b[0m\n",
      "\u001b[1;32mC:\\Users\\acelikkaya\\AppData\\Local\\Continuum\\Anaconda3\\lib\\site-packages\\sklearn\\externals\\joblib\\parallel.py\u001b[0m in \u001b[0;36m__init__\u001b[1;34m(self, func, args, kwargs)\u001b[0m\n\u001b[0;32m    138\u001b[0m         \u001b[1;31m# Don't delay the application, to avoid keeping the input\u001b[0m\u001b[1;33m\u001b[0m\u001b[1;33m\u001b[0m\u001b[0m\n\u001b[0;32m    139\u001b[0m         \u001b[1;31m# arguments in memory\u001b[0m\u001b[1;33m\u001b[0m\u001b[1;33m\u001b[0m\u001b[0m\n\u001b[1;32m--> 140\u001b[1;33m         \u001b[0mself\u001b[0m\u001b[1;33m.\u001b[0m\u001b[0mresults\u001b[0m \u001b[1;33m=\u001b[0m \u001b[0mfunc\u001b[0m\u001b[1;33m(\u001b[0m\u001b[1;33m*\u001b[0m\u001b[0margs\u001b[0m\u001b[1;33m,\u001b[0m \u001b[1;33m**\u001b[0m\u001b[0mkwargs\u001b[0m\u001b[1;33m)\u001b[0m\u001b[1;33m\u001b[0m\u001b[0m\n\u001b[0m\u001b[0;32m    141\u001b[0m \u001b[1;33m\u001b[0m\u001b[0m\n\u001b[0;32m    142\u001b[0m     \u001b[1;32mdef\u001b[0m \u001b[0mget\u001b[0m\u001b[1;33m(\u001b[0m\u001b[0mself\u001b[0m\u001b[1;33m)\u001b[0m\u001b[1;33m:\u001b[0m\u001b[1;33m\u001b[0m\u001b[0m\n",
      "\u001b[1;32mC:\\Users\\acelikkaya\\AppData\\Local\\Continuum\\Anaconda3\\lib\\site-packages\\sklearn\\cross_validation.py\u001b[0m in \u001b[0;36m_fit_and_score\u001b[1;34m(estimator, X, y, scorer, train, test, verbose, parameters, fit_params, return_train_score, return_parameters, error_score)\u001b[0m\n\u001b[0;32m   1457\u001b[0m             \u001b[0mestimator\u001b[0m\u001b[1;33m.\u001b[0m\u001b[0mfit\u001b[0m\u001b[1;33m(\u001b[0m\u001b[0mX_train\u001b[0m\u001b[1;33m,\u001b[0m \u001b[1;33m**\u001b[0m\u001b[0mfit_params\u001b[0m\u001b[1;33m)\u001b[0m\u001b[1;33m\u001b[0m\u001b[0m\n\u001b[0;32m   1458\u001b[0m         \u001b[1;32melse\u001b[0m\u001b[1;33m:\u001b[0m\u001b[1;33m\u001b[0m\u001b[0m\n\u001b[1;32m-> 1459\u001b[1;33m             \u001b[0mestimator\u001b[0m\u001b[1;33m.\u001b[0m\u001b[0mfit\u001b[0m\u001b[1;33m(\u001b[0m\u001b[0mX_train\u001b[0m\u001b[1;33m,\u001b[0m \u001b[0my_train\u001b[0m\u001b[1;33m,\u001b[0m \u001b[1;33m**\u001b[0m\u001b[0mfit_params\u001b[0m\u001b[1;33m)\u001b[0m\u001b[1;33m\u001b[0m\u001b[0m\n\u001b[0m\u001b[0;32m   1460\u001b[0m \u001b[1;33m\u001b[0m\u001b[0m\n\u001b[0;32m   1461\u001b[0m     \u001b[1;32mexcept\u001b[0m \u001b[0mException\u001b[0m \u001b[1;32mas\u001b[0m \u001b[0me\u001b[0m\u001b[1;33m:\u001b[0m\u001b[1;33m\u001b[0m\u001b[0m\n",
      "\u001b[1;32mC:\\Users\\acelikkaya\\AppData\\Local\\Continuum\\Anaconda3\\lib\\site-packages\\sklearn\\ensemble\\forest.py\u001b[0m in \u001b[0;36mfit\u001b[1;34m(self, X, y, sample_weight)\u001b[0m\n\u001b[0;32m    271\u001b[0m                     \u001b[0mt\u001b[0m\u001b[1;33m,\u001b[0m \u001b[0mself\u001b[0m\u001b[1;33m,\u001b[0m \u001b[0mX\u001b[0m\u001b[1;33m,\u001b[0m \u001b[0my\u001b[0m\u001b[1;33m,\u001b[0m \u001b[0msample_weight\u001b[0m\u001b[1;33m,\u001b[0m \u001b[0mi\u001b[0m\u001b[1;33m,\u001b[0m \u001b[0mlen\u001b[0m\u001b[1;33m(\u001b[0m\u001b[0mtrees\u001b[0m\u001b[1;33m)\u001b[0m\u001b[1;33m,\u001b[0m\u001b[1;33m\u001b[0m\u001b[0m\n\u001b[0;32m    272\u001b[0m                     verbose=self.verbose, class_weight=self.class_weight)\n\u001b[1;32m--> 273\u001b[1;33m                 for i, t in enumerate(trees))\n\u001b[0m\u001b[0;32m    274\u001b[0m \u001b[1;33m\u001b[0m\u001b[0m\n\u001b[0;32m    275\u001b[0m             \u001b[1;31m# Collect newly grown trees\u001b[0m\u001b[1;33m\u001b[0m\u001b[1;33m\u001b[0m\u001b[0m\n",
      "\u001b[1;32mC:\\Users\\acelikkaya\\AppData\\Local\\Continuum\\Anaconda3\\lib\\site-packages\\sklearn\\externals\\joblib\\parallel.py\u001b[0m in \u001b[0;36m__call__\u001b[1;34m(self, iterable)\u001b[0m\n\u001b[0;32m    664\u001b[0m                 \u001b[1;31m# consumption.\u001b[0m\u001b[1;33m\u001b[0m\u001b[1;33m\u001b[0m\u001b[0m\n\u001b[0;32m    665\u001b[0m                 \u001b[0mself\u001b[0m\u001b[1;33m.\u001b[0m\u001b[0m_iterating\u001b[0m \u001b[1;33m=\u001b[0m \u001b[1;32mFalse\u001b[0m\u001b[1;33m\u001b[0m\u001b[0m\n\u001b[1;32m--> 666\u001b[1;33m             \u001b[0mself\u001b[0m\u001b[1;33m.\u001b[0m\u001b[0mretrieve\u001b[0m\u001b[1;33m(\u001b[0m\u001b[1;33m)\u001b[0m\u001b[1;33m\u001b[0m\u001b[0m\n\u001b[0m\u001b[0;32m    667\u001b[0m             \u001b[1;31m# Make sure that we get a last message telling us we are done\u001b[0m\u001b[1;33m\u001b[0m\u001b[1;33m\u001b[0m\u001b[0m\n\u001b[0;32m    668\u001b[0m             \u001b[0melapsed_time\u001b[0m \u001b[1;33m=\u001b[0m \u001b[0mtime\u001b[0m\u001b[1;33m.\u001b[0m\u001b[0mtime\u001b[0m\u001b[1;33m(\u001b[0m\u001b[1;33m)\u001b[0m \u001b[1;33m-\u001b[0m \u001b[0mself\u001b[0m\u001b[1;33m.\u001b[0m\u001b[0m_start_time\u001b[0m\u001b[1;33m\u001b[0m\u001b[0m\n",
      "\u001b[1;32mC:\\Users\\acelikkaya\\AppData\\Local\\Continuum\\Anaconda3\\lib\\site-packages\\sklearn\\externals\\joblib\\parallel.py\u001b[0m in \u001b[0;36mretrieve\u001b[1;34m(self)\u001b[0m\n\u001b[0;32m    516\u001b[0m                 \u001b[0mself\u001b[0m\u001b[1;33m.\u001b[0m\u001b[0m_lock\u001b[0m\u001b[1;33m.\u001b[0m\u001b[0mrelease\u001b[0m\u001b[1;33m(\u001b[0m\u001b[1;33m)\u001b[0m\u001b[1;33m\u001b[0m\u001b[0m\n\u001b[0;32m    517\u001b[0m             \u001b[1;32mtry\u001b[0m\u001b[1;33m:\u001b[0m\u001b[1;33m\u001b[0m\u001b[0m\n\u001b[1;32m--> 518\u001b[1;33m                 \u001b[0mself\u001b[0m\u001b[1;33m.\u001b[0m\u001b[0m_output\u001b[0m\u001b[1;33m.\u001b[0m\u001b[0mappend\u001b[0m\u001b[1;33m(\u001b[0m\u001b[0mjob\u001b[0m\u001b[1;33m.\u001b[0m\u001b[0mget\u001b[0m\u001b[1;33m(\u001b[0m\u001b[1;33m)\u001b[0m\u001b[1;33m)\u001b[0m\u001b[1;33m\u001b[0m\u001b[0m\n\u001b[0m\u001b[0;32m    519\u001b[0m             \u001b[1;32mexcept\u001b[0m \u001b[0mtuple\u001b[0m\u001b[1;33m(\u001b[0m\u001b[0mself\u001b[0m\u001b[1;33m.\u001b[0m\u001b[0mexceptions\u001b[0m\u001b[1;33m)\u001b[0m \u001b[1;32mas\u001b[0m \u001b[0mexception\u001b[0m\u001b[1;33m:\u001b[0m\u001b[1;33m\u001b[0m\u001b[0m\n\u001b[0;32m    520\u001b[0m                 \u001b[1;32mtry\u001b[0m\u001b[1;33m:\u001b[0m\u001b[1;33m\u001b[0m\u001b[0m\n",
      "\u001b[1;32mC:\\Users\\acelikkaya\\AppData\\Local\\Continuum\\Anaconda3\\lib\\multiprocessing\\pool.py\u001b[0m in \u001b[0;36mget\u001b[1;34m(self, timeout)\u001b[0m\n\u001b[0;32m    591\u001b[0m \u001b[1;33m\u001b[0m\u001b[0m\n\u001b[0;32m    592\u001b[0m     \u001b[1;32mdef\u001b[0m \u001b[0mget\u001b[0m\u001b[1;33m(\u001b[0m\u001b[0mself\u001b[0m\u001b[1;33m,\u001b[0m \u001b[0mtimeout\u001b[0m\u001b[1;33m=\u001b[0m\u001b[1;32mNone\u001b[0m\u001b[1;33m)\u001b[0m\u001b[1;33m:\u001b[0m\u001b[1;33m\u001b[0m\u001b[0m\n\u001b[1;32m--> 593\u001b[1;33m         \u001b[0mself\u001b[0m\u001b[1;33m.\u001b[0m\u001b[0mwait\u001b[0m\u001b[1;33m(\u001b[0m\u001b[0mtimeout\u001b[0m\u001b[1;33m)\u001b[0m\u001b[1;33m\u001b[0m\u001b[0m\n\u001b[0m\u001b[0;32m    594\u001b[0m         \u001b[1;32mif\u001b[0m \u001b[1;32mnot\u001b[0m \u001b[0mself\u001b[0m\u001b[1;33m.\u001b[0m\u001b[0mready\u001b[0m\u001b[1;33m(\u001b[0m\u001b[1;33m)\u001b[0m\u001b[1;33m:\u001b[0m\u001b[1;33m\u001b[0m\u001b[0m\n\u001b[0;32m    595\u001b[0m             \u001b[1;32mraise\u001b[0m \u001b[0mTimeoutError\u001b[0m\u001b[1;33m\u001b[0m\u001b[0m\n",
      "\u001b[1;32mC:\\Users\\acelikkaya\\AppData\\Local\\Continuum\\Anaconda3\\lib\\multiprocessing\\pool.py\u001b[0m in \u001b[0;36mwait\u001b[1;34m(self, timeout)\u001b[0m\n\u001b[0;32m    588\u001b[0m \u001b[1;33m\u001b[0m\u001b[0m\n\u001b[0;32m    589\u001b[0m     \u001b[1;32mdef\u001b[0m \u001b[0mwait\u001b[0m\u001b[1;33m(\u001b[0m\u001b[0mself\u001b[0m\u001b[1;33m,\u001b[0m \u001b[0mtimeout\u001b[0m\u001b[1;33m=\u001b[0m\u001b[1;32mNone\u001b[0m\u001b[1;33m)\u001b[0m\u001b[1;33m:\u001b[0m\u001b[1;33m\u001b[0m\u001b[0m\n\u001b[1;32m--> 590\u001b[1;33m         \u001b[0mself\u001b[0m\u001b[1;33m.\u001b[0m\u001b[0m_event\u001b[0m\u001b[1;33m.\u001b[0m\u001b[0mwait\u001b[0m\u001b[1;33m(\u001b[0m\u001b[0mtimeout\u001b[0m\u001b[1;33m)\u001b[0m\u001b[1;33m\u001b[0m\u001b[0m\n\u001b[0m\u001b[0;32m    591\u001b[0m \u001b[1;33m\u001b[0m\u001b[0m\n\u001b[0;32m    592\u001b[0m     \u001b[1;32mdef\u001b[0m \u001b[0mget\u001b[0m\u001b[1;33m(\u001b[0m\u001b[0mself\u001b[0m\u001b[1;33m,\u001b[0m \u001b[0mtimeout\u001b[0m\u001b[1;33m=\u001b[0m\u001b[1;32mNone\u001b[0m\u001b[1;33m)\u001b[0m\u001b[1;33m:\u001b[0m\u001b[1;33m\u001b[0m\u001b[0m\n",
      "\u001b[1;32mC:\\Users\\acelikkaya\\AppData\\Local\\Continuum\\Anaconda3\\lib\\threading.py\u001b[0m in \u001b[0;36mwait\u001b[1;34m(self, timeout)\u001b[0m\n\u001b[0;32m    551\u001b[0m             \u001b[0msignaled\u001b[0m \u001b[1;33m=\u001b[0m \u001b[0mself\u001b[0m\u001b[1;33m.\u001b[0m\u001b[0m_flag\u001b[0m\u001b[1;33m\u001b[0m\u001b[0m\n\u001b[0;32m    552\u001b[0m             \u001b[1;32mif\u001b[0m \u001b[1;32mnot\u001b[0m \u001b[0msignaled\u001b[0m\u001b[1;33m:\u001b[0m\u001b[1;33m\u001b[0m\u001b[0m\n\u001b[1;32m--> 553\u001b[1;33m                 \u001b[0msignaled\u001b[0m \u001b[1;33m=\u001b[0m \u001b[0mself\u001b[0m\u001b[1;33m.\u001b[0m\u001b[0m_cond\u001b[0m\u001b[1;33m.\u001b[0m\u001b[0mwait\u001b[0m\u001b[1;33m(\u001b[0m\u001b[0mtimeout\u001b[0m\u001b[1;33m)\u001b[0m\u001b[1;33m\u001b[0m\u001b[0m\n\u001b[0m\u001b[0;32m    554\u001b[0m             \u001b[1;32mreturn\u001b[0m \u001b[0msignaled\u001b[0m\u001b[1;33m\u001b[0m\u001b[0m\n\u001b[0;32m    555\u001b[0m         \u001b[1;32mfinally\u001b[0m\u001b[1;33m:\u001b[0m\u001b[1;33m\u001b[0m\u001b[0m\n",
      "\u001b[1;32mC:\\Users\\acelikkaya\\AppData\\Local\\Continuum\\Anaconda3\\lib\\threading.py\u001b[0m in \u001b[0;36mwait\u001b[1;34m(self, timeout)\u001b[0m\n\u001b[0;32m    288\u001b[0m         \u001b[1;32mtry\u001b[0m\u001b[1;33m:\u001b[0m    \u001b[1;31m# restore state no matter what (e.g., KeyboardInterrupt)\u001b[0m\u001b[1;33m\u001b[0m\u001b[0m\n\u001b[0;32m    289\u001b[0m             \u001b[1;32mif\u001b[0m \u001b[0mtimeout\u001b[0m \u001b[1;32mis\u001b[0m \u001b[1;32mNone\u001b[0m\u001b[1;33m:\u001b[0m\u001b[1;33m\u001b[0m\u001b[0m\n\u001b[1;32m--> 290\u001b[1;33m                 \u001b[0mwaiter\u001b[0m\u001b[1;33m.\u001b[0m\u001b[0macquire\u001b[0m\u001b[1;33m(\u001b[0m\u001b[1;33m)\u001b[0m\u001b[1;33m\u001b[0m\u001b[0m\n\u001b[0m\u001b[0;32m    291\u001b[0m                 \u001b[0mgotit\u001b[0m \u001b[1;33m=\u001b[0m \u001b[1;32mTrue\u001b[0m\u001b[1;33m\u001b[0m\u001b[0m\n\u001b[0;32m    292\u001b[0m             \u001b[1;32melse\u001b[0m\u001b[1;33m:\u001b[0m\u001b[1;33m\u001b[0m\u001b[0m\n",
      "\u001b[1;31mKeyboardInterrupt\u001b[0m: "
     ]
    }
   ],
   "source": [
    "#GridSearchCV hyperparameter optimizing\n",
    "grid_search = GridSearchCV(rf1, param_grid=param_grid_ManyTrees) #add cv=kfold??\n",
    "start = time()\n",
    "grid_search.fit(Xtrain_class2, ytrain_class2)\n",
    "print(\"GridSearchCV took %.2f seconds for %d candidate parameter settings.\"\n",
    "      % (time() - start, len(grid_search.grid_scores_)))\n",
    "report(grid_search.grid_scores_)"
   ]
  },
  {
   "cell_type": "code",
   "execution_count": 37,
   "metadata": {
    "collapsed": true
   },
   "outputs": [],
   "source": [
    "#This code is a helper to Un-code the LabelEncoded Classtargets from x_total (estimator for all classes)\n",
    "#This function might be not needed, if labelencoder is saved in a var before encoding like this:\n",
    "\n",
    "def uncode_classes(prediction):\n",
    "    if prediction==0:\n",
    "        return \"Class_1\"\n",
    "    elif prediction==1:\n",
    "        return \"Class_5\"\n",
    "    elif prediction==2:\n",
    "        return \"Class_6\"\n",
    "    elif prediction==3:\n",
    "        return \"Class_7\"\n",
    "    elif prediction==4:\n",
    "        return \"Class_8\"\n",
    "    elif prediction==5:\n",
    "        return \"Class_9\"\n",
    "    elif prediction==6:\n",
    "        return \"Class 2,3,4\""
   ]
  },
  {
   "cell_type": "markdown",
   "metadata": {},
   "source": [
    "# 2. part: Classification with sampled data\n",
    "## Import Data (Kaggle OTTO challenge, SAMPLED)\n",
    "[**Explanation**]: The original training dataset from the challenge is unbalanced to some degree. we want to explore, if there is room to optimize the classification results by undersampling the training dataset. For this, _RUS - Random Majority Undersampling_ is being applied to balance the data. The reason for choosing RUS is, that it is simple and there is some scientific work, that proposes RUS as a good choice* for Random Forest:\n",
    "\n",
    "_\"Overall, however, RUS resulted in very good performance, being the best sampling tech-nique 748 of 2340 times.\"_\n",
    "\n",
    "*_(source: VAN HULSE, Jason; KHOSHGOFTAAR, Taghi M.; NAPOLITANO, Amri. Experimental perspectives on learning from imbalanced data. In: Proceedings of the 24th international conference on Machine learning. ACM, 2007. S. 935-942.)_"
   ]
  },
  {
   "cell_type": "code",
   "execution_count": 48,
   "metadata": {
    "collapsed": true
   },
   "outputs": [],
   "source": [
    "#Step1: Read raw data, split up samples and concatenate to new resultframe\n",
    "x_raw = pd.read_csv(\"./data/train.csv\")\n",
    "df1 = x_raw.copy()\n",
    "\n",
    "df_sorted=df1.sort(columns=['target'], inplace=True)\n",
    "# set the index to be this and don't drop\n",
    "df1.set_index(keys=['target'], drop=False,inplace=True)\n",
    "\n",
    "df_class1 = df1.loc[df1.target==\"Class_1\"] #1929 samples actually\n",
    "df_class2 = df1.loc[df1.target==\"Class_2\"].sample(2000)\n",
    "df_class3 = df1.loc[df1.target==\"Class_3\"].sample(2000)\n",
    "df_class4 = df1.loc[df1.target==\"Class_4\"].sample(2000)\n",
    "df_class5 = df1.loc[df1.target==\"Class_5\"].sample(2000)\n",
    "df_class6 = df1.loc[df1.target==\"Class_6\"].sample(2000)\n",
    "df_class7 = df1.loc[df1.target==\"Class_7\"].sample(2000)\n",
    "df_class8 = df1.loc[df1.target==\"Class_8\"].sample(2000)\n",
    "df_class9 = df1.loc[df1.target==\"Class_9\"].sample(2000)\n",
    "\n",
    "frames = [df_class1, df_class2, df_class3, \n",
    "          df_class4, df_class5, df_class6,\n",
    "          df_class7, df_class8, df_class9]\n",
    "result = pd.concat(frames)\n",
    "x_balanced = result.iloc[np.random.permutation(len(result))] #reshuffle dataset\n",
    "#result_shuffled.shape\n",
    "#indizes neu setzen zu erst!!! ANFANG:\n",
    "x_balanced.reset_index(drop=True)\n",
    "\n",
    "\n",
    "x_balanced = x_balanced.drop('id',axis=1) #axis1 ist glaube ich die y-achse, also columns...\n",
    "y_balanced = x_balanced.target.values\n",
    "y_balanced = LabelEncoder().fit_transform(y_balanced) #binarize labels\n",
    "x_balanced = x_balanced.drop('target', axis=1)"
   ]
  },
  {
   "cell_type": "code",
   "execution_count": 49,
   "metadata": {
    "collapsed": false
   },
   "outputs": [],
   "source": [
    "#Step2: After loading dataset, split data\n",
    "Xbal_train, Xbal_test, ybal_train, ybal_test = train_test_split(x_balanced, y_balanced, test_size=0.3, random_state=0)"
   ]
  },
  {
   "cell_type": "code",
   "execution_count": 50,
   "metadata": {
    "collapsed": false
   },
   "outputs": [
    {
     "name": "stdout",
     "output_type": "stream",
     "text": [
      "Train: [    0     1     2 ..., 17924 17925 17928] | test: [   11    17    24 ..., 17922 17926 17927]\n",
      "Train: [    2     3     4 ..., 17926 17927 17928] | test: [    0     1     8 ..., 17909 17910 17916]\n",
      "Train: [    0     1     2 ..., 17926 17927 17928] | test: [    4    16    23 ..., 17914 17921 17923]\n",
      "Train: [    0     1     4 ..., 17924 17926 17927] | test: [    2     3     5 ..., 17917 17925 17928]\n",
      "Train: [    0     1     2 ..., 17926 17927 17928] | test: [   19    31    37 ..., 17911 17915 17924]\n"
     ]
    }
   ],
   "source": [
    "#Step3: Choose CV iterator\n",
    "from sklearn import cross_validation\n",
    "k_fold = cross_validation.KFold(len(x_balanced), n_folds=5, shuffle=True)\n",
    "for train_indices, test_indices in k_fold:\n",
    "     print('Train: %s | test: %s' % (train_indices, test_indices))"
   ]
  },
  {
   "cell_type": "code",
   "execution_count": 60,
   "metadata": {
    "collapsed": true
   },
   "outputs": [],
   "source": [
    "#Step4: Choose estimator, RF in our case.\n",
    "from sklearn.ensemble import RandomForestClassifier\n",
    "rf = RandomForestClassifier(n_estimators=10,n_jobs=-1)\n",
    "rf_noweight = RandomForestClassifier(n_estimators=300, max_features=\"sqrt\", criterion=\"gini\", bootstrap=False,\n",
    "                                min_samples_leaf=1, min_samples_split=3, max_depth= None,\n",
    "                                n_jobs=-1)\n",
    "\n",
    "rf_weighted = RandomForestClassifier(n_estimators=1500, max_features=\"sqrt\", criterion=\"gini\", bootstrap=False,\n",
    "                                min_samples_leaf=1, min_samples_split=3, max_depth= None, class_weight=\"subsample\",\n",
    "                                n_jobs=-1)"
   ]
  },
  {
   "cell_type": "code",
   "execution_count": 61,
   "metadata": {
    "collapsed": false
   },
   "outputs": [
    {
     "data": {
      "text/plain": [
       "[0.77988473693995164,\n",
       " 0.77802565532626877,\n",
       " 0.77858337981037362,\n",
       " 0.77988473693995164,\n",
       " 0.78137200223089798]"
      ]
     },
     "execution_count": 61,
     "metadata": {},
     "output_type": "execute_result"
    }
   ],
   "source": [
    "#Step5: K Prediction Scores for k-folds\n",
    "[rf_weighted.fit(Xbal_train, ybal_train).score(Xbal_test, ybal_test)\n",
    "         for train, test in k_fold]"
   ]
  },
  {
   "cell_type": "code",
   "execution_count": 78,
   "metadata": {
    "collapsed": true
   },
   "outputs": [],
   "source": [
    "#clf = RandomForestClassifier(n_estimators=250, n_jobs=-1)\n",
    "# in our case, 'isotonic' works better than default 'sigmoid'\n",
    "calibrated_clf = CalibratedClassifierCV(rf_weighted, method='isotonic', cv=5)\n",
    "calibrated_clf.fit(Xbal_train, ybal_train)\n",
    "ypreds = calibrated_clf.predict_proba(Xbal_test)\n"
   ]
  },
  {
   "cell_type": "code",
   "execution_count": 79,
   "metadata": {
    "collapsed": false
   },
   "outputs": [
    {
     "name": "stdout",
     "output_type": "stream",
     "text": [
      "0.63\n"
     ]
    }
   ],
   "source": [
    "print (\"%.2f\" % log_loss(ybal_test, ypreds, eps=1e-15, normalize=True))"
   ]
  },
  {
   "cell_type": "code",
   "execution_count": 81,
   "metadata": {
    "collapsed": false
   },
   "outputs": [],
   "source": [
    "predicted_calib = calibrated_clf.predict(Xbal_test)"
   ]
  },
  {
   "cell_type": "code",
   "execution_count": 62,
   "metadata": {
    "collapsed": true
   },
   "outputs": [],
   "source": [
    "predicted_xbal = rf_weighted.predict(Xbal_test)"
   ]
  },
  {
   "cell_type": "code",
   "execution_count": 82,
   "metadata": {
    "collapsed": false
   },
   "outputs": [
    {
     "data": {
      "text/plain": [
       "array([[407,   5,   9,   2,   2,  18,  49,  42,  72],\n",
       "       [  1, 385, 159,  63,   5,   0,  18,   0,   2],\n",
       "       [  1, 101, 376,  85,   0,   0,  33,   0,   2],\n",
       "       [  0,  40,  87, 431,   2,  13,  18,   0,   2],\n",
       "       [  2,   4,   5,   3, 586,   1,   3,   0,   0],\n",
       "       [ 16,   3,   2,   5,   0, 490,  35,   8,  20],\n",
       "       [ 23,   9,  28,  18,   2,  13, 491,  14,   3],\n",
       "       [ 34,   1,   5,   0,   0,  12,  12, 533,  10],\n",
       "       [ 47,   1,   0,   1,   2,  14,   7,  18, 468]])"
      ]
     },
     "execution_count": 82,
     "metadata": {},
     "output_type": "execute_result"
    }
   ],
   "source": [
    "confusion_matrix(ybal_test, predicted_calib)"
   ]
  },
  {
   "cell_type": "code",
   "execution_count": 64,
   "metadata": {
    "collapsed": false
   },
   "outputs": [
    {
     "data": {
      "text/plain": [
       "array([[423,   4,   8,   2,   2,  16,  37,  39,  75],\n",
       "       [  2, 403, 146,  60,   6,   0,  14,   0,   2],\n",
       "       [  1, 109, 372,  87,   0,   0,  26,   1,   2],\n",
       "       [  0,  48,  81, 435,   1,  12,  14,   0,   2],\n",
       "       [  1,   5,   4,   3, 588,   1,   2,   0,   0],\n",
       "       [ 19,   4,   2,   5,   0, 492,  30,   7,  20],\n",
       "       [ 23,  14,  28,  20,   2,  12, 487,  12,   3],\n",
       "       [ 41,   1,   5,   0,   0,  11,  12, 526,  11],\n",
       "       [ 39,   0,   0,   1,   2,  14,   7,  18, 477]])"
      ]
     },
     "execution_count": 64,
     "metadata": {},
     "output_type": "execute_result"
    }
   ],
   "source": [
    "from sklearn.metrics import confusion_matrix\n",
    "confusion_matrix(ybal_test, predicted_xbal)"
   ]
  },
  {
   "cell_type": "code",
   "execution_count": 65,
   "metadata": {
    "collapsed": false
   },
   "outputs": [
    {
     "name": "stdout",
     "output_type": "stream",
     "text": [
      "             precision    recall  f1-score   support\n",
      "\n",
      "    Class_1       0.77      0.70      0.73       606\n",
      "    Class_2       0.69      0.64      0.66       633\n",
      "    Class_3       0.58      0.62      0.60       598\n",
      "    Class_4       0.71      0.73      0.72       593\n",
      "    Class_5       0.98      0.97      0.98       604\n",
      "    Class_6       0.88      0.85      0.87       579\n",
      "    Class_7       0.77      0.81      0.79       601\n",
      "    Class_8       0.87      0.87      0.87       607\n",
      "    Class_9       0.81      0.85      0.83       558\n",
      "\n",
      "avg / total       0.78      0.78      0.78      5379\n",
      "\n"
     ]
    }
   ],
   "source": [
    "print(classification_report(ybal_test, predicted_xbal, target_names=otto_target_names))"
   ]
  },
  {
   "cell_type": "code",
   "execution_count": 83,
   "metadata": {
    "collapsed": false
   },
   "outputs": [
    {
     "name": "stdout",
     "output_type": "stream",
     "text": [
      "             precision    recall  f1-score   support\n",
      "\n",
      "    Class_1       0.77      0.67      0.72       606\n",
      "    Class_2       0.70      0.61      0.65       633\n",
      "    Class_3       0.56      0.63      0.59       598\n",
      "    Class_4       0.71      0.73      0.72       593\n",
      "    Class_5       0.98      0.97      0.97       604\n",
      "    Class_6       0.87      0.85      0.86       579\n",
      "    Class_7       0.74      0.82      0.78       601\n",
      "    Class_8       0.87      0.88      0.87       607\n",
      "    Class_9       0.81      0.84      0.82       558\n",
      "\n",
      "avg / total       0.78      0.77      0.77      5379\n",
      "\n"
     ]
    }
   ],
   "source": [
    "print(classification_report(ybal_test, predicted_calib, target_names=otto_target_names))"
   ]
  },
  {
   "cell_type": "code",
   "execution_count": 84,
   "metadata": {
    "collapsed": false
   },
   "outputs": [
    {
     "name": "stdout",
     "output_type": "stream",
     "text": [
      "Confusion matrix, without normalization\n",
      "[[407   5   9   2   2  18  49  42  72]\n",
      " [  1 385 159  63   5   0  18   0   2]\n",
      " [  1 101 376  85   0   0  33   0   2]\n",
      " [  0  40  87 431   2  13  18   0   2]\n",
      " [  2   4   5   3 586   1   3   0   0]\n",
      " [ 16   3   2   5   0 490  35   8  20]\n",
      " [ 23   9  28  18   2  13 491  14   3]\n",
      " [ 34   1   5   0   0  12  12 533  10]\n",
      " [ 47   1   0   1   2  14   7  18 468]]\n"
     ]
    }
   ],
   "source": [
    "#Plotting of the confusion matrix via matplotlib (matlab-style)\n",
    "import matplotlib.pyplot as plt\n",
    "def plot_confusion_matrix(cm, title='Confusion matrix', cmap=plt.cm.Blues):\n",
    "    plt.imshow(cm, interpolation='nearest', cmap=cmap)\n",
    "    plt.title(title)\n",
    "    plt.colorbar()\n",
    "    tick_marks = np.arange(len(otto_target_names))\n",
    "    plt.xticks(tick_marks, otto_target_names, rotation=45)\n",
    "    plt.yticks(tick_marks, otto_target_names)\n",
    "    plt.tight_layout()\n",
    "    plt.ylabel('True label')\n",
    "    plt.xlabel('Predicted label')\n",
    "\n",
    "\n",
    "# Compute confusion matrix\n",
    "cm = confusion_matrix(ybal_test, predicted_calib)\n",
    "np.set_printoptions(precision=2)\n",
    "print('Confusion matrix, without normalization')\n",
    "print(cm)\n",
    "plt.figure()\n",
    "plot_confusion_matrix(cm)\n",
    "\n",
    "plt.show()"
   ]
  },
  {
   "cell_type": "code",
   "execution_count": 86,
   "metadata": {
    "collapsed": false
   },
   "outputs": [
    {
     "data": {
      "image/png": "[encoded data removed]",
      "text/plain": [
       "<IPython.core.display.Image object>"
      ]
     },
     "execution_count": 86,
     "metadata": {},
     "output_type": "execute_result"
    }
   ],
   "source": [
    "Image(filename='C:/Users/acelikkaya/D&A/First Steps/confus_matrix_RUS_sampled_26082015.png') "
   ]
  },
  {
   "cell_type": "code",
   "execution_count": 87,
   "metadata": {
    "collapsed": false
   },
   "outputs": [
    {
     "data": {
      "image/png": "[encoded data removed]",
      "text/plain": [
       "<IPython.core.display.Image object>"
      ]
     },
     "execution_count": 87,
     "metadata": {},
     "output_type": "execute_result"
    }
   ],
   "source": [
    "Image(filename='C:/Users/acelikkaya/D&A/First Steps/confus_matrix_NOT_sampled_STACKED_30percenttestsplit_04092015.png') \n"
   ]
  },
  {
   "cell_type": "markdown",
   "metadata": {},
   "source": [
    "## Learning Curve plots\n",
    "\n",
    "[**Explanation**]: Plotting of n_estimators against pred.error or pred.acc."
   ]
  },
  {
   "cell_type": "code",
   "execution_count": 30,
   "metadata": {
    "collapsed": true
   },
   "outputs": [],
   "source": [
    "import matplotlib.pyplot as plt\n",
    "from sklearn.learning_curve import learning_curve\n",
    "import pylab\n",
    "plt.title(\"Random Forest Tree-Size / Pred.Acc.\")\n",
    "plt.grid() \n"
   ]
  },
  {
   "cell_type": "code",
   "execution_count": 31,
   "metadata": {
    "collapsed": true
   },
   "outputs": [],
   "source": [
    "rf_10 = RandomForestClassifier(n_estimators=10, max_features=\"sqrt\", criterion=\"gini\", bootstrap=False,\n",
    "                                min_samples_leaf=1, min_samples_split=3, max_depth= None, class_weight=\"auto\",\n",
    "                                n_jobs=-1)\n",
    "rf_25 = RandomForestClassifier(n_estimators=25, max_features=\"sqrt\", criterion=\"gini\", bootstrap=False,\n",
    "                                min_samples_leaf=1, min_samples_split=3, max_depth= None, class_weight=\"auto\",\n",
    "                                n_jobs=-1)\n",
    "rf_50 = RandomForestClassifier(n_estimators=50, max_features=\"sqrt\", criterion=\"gini\", bootstrap=False,\n",
    "                                min_samples_leaf=1, min_samples_split=3, max_depth= None, class_weight=\"auto\",\n",
    "                                n_jobs=-1)\n",
    "rf_100 = RandomForestClassifier(n_estimators=100, max_features=\"sqrt\", criterion=\"gini\", bootstrap=False,\n",
    "                                min_samples_leaf=1, min_samples_split=3, max_depth= None, class_weight=\"auto\",\n",
    "                                n_jobs=-1)\n",
    "rf_150 = RandomForestClassifier(n_estimators=150, max_features=\"sqrt\", criterion=\"gini\", bootstrap=False,\n",
    "                                min_samples_leaf=1, min_samples_split=3, max_depth= None, class_weight=\"auto\",\n",
    "                                n_jobs=-1)\n",
    "rf_200 = RandomForestClassifier(n_estimators=200, max_features=\"sqrt\", criterion=\"gini\", bootstrap=False,\n",
    "                                min_samples_leaf=1, min_samples_split=3, max_depth= None, class_weight=\"auto\",\n",
    "                                n_jobs=-1)\n",
    "rf_250 = RandomForestClassifier(n_estimators=250, max_features=\"sqrt\", criterion=\"gini\", bootstrap=False,\n",
    "                                min_samples_leaf=1, min_samples_split=3, max_depth= None, class_weight=\"auto\",\n",
    "                                n_jobs=-1)\n",
    "rf_300 = RandomForestClassifier(n_estimators=300, max_features=\"sqrt\", criterion=\"gini\", bootstrap=False,\n",
    "                                min_samples_leaf=1, min_samples_split=3, max_depth= None, class_weight=\"auto\",\n",
    "                                n_jobs=-1)\n",
    "rf_400 = RandomForestClassifier(n_estimators=400, max_features=\"sqrt\", criterion=\"gini\", bootstrap=False,\n",
    "                                min_samples_leaf=1, min_samples_split=3, max_depth= None, class_weight=\"auto\",\n",
    "                                n_jobs=-1)\n",
    "rf_500 = RandomForestClassifier(n_estimators=500, max_features=\"sqrt\", criterion=\"gini\", bootstrap=False,\n",
    "                                min_samples_leaf=1, min_samples_split=3, max_depth= None, class_weight=\"auto\",\n",
    "                                n_jobs=-1)  "
   ]
  },
  {
   "cell_type": "code",
   "execution_count": 32,
   "metadata": {
    "collapsed": true
   },
   "outputs": [],
   "source": [
    "#pred_array = np.array([])\n",
    "#pred_array = []\n",
    "#pred_array=np.append(pred_array,3)\n",
    "\n",
    "tree_array = [10,25,50,100,150,200,250,300,400,500]\n",
    "#tree_array\n",
    "#pred_array\n",
    "#reversed_arr = pred_array[::-1]\n",
    "#reversed_arr"
   ]
  },
  {
   "cell_type": "code",
   "execution_count": 36,
   "metadata": {
    "collapsed": false
   },
   "outputs": [],
   "source": [
    "pred_array = []\n",
    "for i, clf in enumerate((rf_10, rf_25, rf_50, rf_100, rf_150, rf_200, rf_250, rf_300, rf_400, rf_500)):\n",
    "    pred_array = np.append(pred_array, clf.fit(Xbal_train, ybal_train).score(Xbal_test, ybal_test))"
   ]
  },
  {
   "cell_type": "code",
   "execution_count": 37,
   "metadata": {
    "collapsed": true
   },
   "outputs": [],
   "source": [
    "pylab.plot(tree_array, pred_array)\n",
    "pylab.xlabel(\"Number of Trees\")\n",
    "pylab.ylabel(\"Prediction Score\")\n",
    "pylab.grid()\n",
    "\n",
    "pylab.show()"
   ]
  },
  {
   "cell_type": "markdown",
   "metadata": {},
   "source": [
    "## Hyperparameter optimization with GridSearchCV & RandomizedSearchCV"
   ]
  },
  {
   "cell_type": "code",
   "execution_count": 39,
   "metadata": {
    "collapsed": false
   },
   "outputs": [
    {
     "data": {
      "text/plain": [
       "10"
      ]
     },
     "execution_count": 39,
     "metadata": {},
     "output_type": "execute_result"
    }
   ],
   "source": [
    "#Random Forest works best with sqrt(#features) according to different sources\n",
    "sqrtfeat = np.sqrt(x_balanced.shape[1]) #need int, sqrt generates float. round and cast to int64\n",
    "sqrtfeat = np.int64(np.round(sqrtfeat))\n",
    "sqrtfeat"
   ]
  },
  {
   "cell_type": "code",
   "execution_count": 42,
   "metadata": {
    "collapsed": true
   },
   "outputs": [],
   "source": [
    "# use a full grid over all parameters WITH NUMBER TREES\n",
    "param_grid_ManyTrees = {\n",
    "              \"class_weight\": [\"auto\", \"subsample\", None], \n",
    "              \"n_estimators\": [100,200,500],\n",
    "              \"max_depth\": [3, None],\n",
    "              \"max_features\": [10, 30],\n",
    "              \"min_samples_split\": [2, 3, 10, 15],\n",
    "              \"min_samples_leaf\": [2, 3, 10, 15],\n",
    "              \"bootstrap\": [True, False],\n",
    "              \"criterion\": [\"gini\", \"entropy\"]}\n",
    "#max features with sqrt and log2 was bad. return to fix number like above on top of code.\n",
    "\n",
    "# Utility function to report best scores\n",
    "def report(grid_scores, n_top=5):\n",
    "    top_scores = sorted(grid_scores, key=itemgetter(1), reverse=True)[:n_top]\n",
    "    for i, score in enumerate(top_scores):\n",
    "        print(\"Model with rank: {0}\".format(i + 1))\n",
    "        print(\"Mean validation score: {0:.3f} (std: {1:.3f})\".format(\n",
    "              score.mean_validation_score,\n",
    "              np.std(score.cv_validation_scores)))\n",
    "        print(\"Parameters: {0}\".format(score.parameters))\n",
    "        print(\"\")"
   ]
  },
  {
   "cell_type": "code",
   "execution_count": 43,
   "metadata": {
    "collapsed": true
   },
   "outputs": [
    {
     "name": "stdout",
     "output_type": "stream",
     "text": [
      "RandomizedSearchCV took 103.04 seconds for 30 candidates parameter settings.\n",
      "Model with rank: 1\n",
      "Mean validation score: 0.759 (std: 0.003)\n",
      "Parameters: {'class_weight': 'auto', 'min_samples_leaf': 3, 'bootstrap': False, 'n_estimators': 100, 'min_samples_split': 2, 'max_depth': None, 'max_features': 10, 'criterion': 'gini'}\n",
      "\n",
      "Model with rank: 2\n",
      "Mean validation score: 0.743 (std: 0.007)\n",
      "Parameters: {'class_weight': None, 'min_samples_leaf': 3, 'bootstrap': False, 'n_estimators': 100, 'min_samples_split': 2, 'max_depth': None, 'max_features': 30, 'criterion': 'gini'}\n",
      "\n",
      "Model with rank: 3\n",
      "Mean validation score: 0.729 (std: 0.007)\n",
      "Parameters: {'class_weight': 'subsample', 'min_samples_leaf': 2, 'bootstrap': False, 'n_estimators': 10, 'min_samples_split': 15, 'max_depth': None, 'max_features': 10, 'criterion': 'gini'}\n",
      "\n",
      "Model with rank: 4\n",
      "Mean validation score: 0.725 (std: 0.007)\n",
      "Parameters: {'class_weight': 'subsample', 'min_samples_leaf': 2, 'bootstrap': False, 'n_estimators': 50, 'min_samples_split': 15, 'max_depth': None, 'max_features': 50, 'criterion': 'gini'}\n",
      "\n",
      "Model with rank: 5\n",
      "Mean validation score: 0.725 (std: 0.008)\n",
      "Parameters: {'class_weight': 'subsample', 'min_samples_leaf': 10, 'bootstrap': True, 'n_estimators': 100, 'min_samples_split': 3, 'max_depth': None, 'max_features': 10, 'criterion': 'entropy'}\n",
      "\n"
     ]
    }
   ],
   "source": [
    "#RandomizedSearchCV optimizing \n",
    "from sklearn.grid_search import GridSearchCV, RandomizedSearchCV\n",
    "from time import time\n",
    "from operator import itemgetter\n",
    "from scipy.stats import randint as sp_randint\n",
    "\n",
    "n_iter_search = 30\n",
    "random_search = RandomizedSearchCV(rf_weighted, param_distributions=param_grid_ManyTrees,\n",
    "                                   n_iter=n_iter_search, cv=3)\n",
    "\n",
    "start = time()\n",
    "random_search.fit(Xbal_train, ybal_train)\n",
    "print(\"RandomizedSearchCV took %.2f seconds for %d candidates\"\n",
    "      \" parameter settings.\" % ((time() - start), n_iter_search))\n",
    "report(random_search.grid_scores_)\n",
    "\n",
    "#my TODOs:\n",
    "#try again with 300 instead of 100 trees, re-introduce sqrtfeat as maxfeature.\n",
    "#try to exclude/include more informative features by finding"
   ]
  },
  {
   "cell_type": "code",
   "execution_count": 45,
   "metadata": {
    "collapsed": true
   },
   "outputs": [
    {
     "ename": "KeyboardInterrupt",
     "evalue": "",
     "output_type": "error",
     "traceback": [
      "\u001b[1;31m---------------------------------------------------------------------------\u001b[0m",
      "\u001b[1;31mKeyboardInterrupt\u001b[0m                         Traceback (most recent call last)",
      "\u001b[1;32m<ipython-input-45-e36078f60e05>\u001b[0m in \u001b[0;36m<module>\u001b[1;34m()\u001b[0m\n\u001b[0;32m      2\u001b[0m \u001b[0mgrid_search\u001b[0m \u001b[1;33m=\u001b[0m \u001b[0mGridSearchCV\u001b[0m\u001b[1;33m(\u001b[0m\u001b[0mrf_weighted\u001b[0m\u001b[1;33m,\u001b[0m \u001b[0mparam_grid\u001b[0m\u001b[1;33m=\u001b[0m\u001b[0mparam_grid_ManyTrees\u001b[0m\u001b[1;33m)\u001b[0m \u001b[1;31m#add cv=kfold??\u001b[0m\u001b[1;33m\u001b[0m\u001b[0m\n\u001b[0;32m      3\u001b[0m \u001b[0mstart\u001b[0m \u001b[1;33m=\u001b[0m \u001b[0mtime\u001b[0m\u001b[1;33m(\u001b[0m\u001b[1;33m)\u001b[0m\u001b[1;33m\u001b[0m\u001b[0m\n\u001b[1;32m----> 4\u001b[1;33m \u001b[0mgrid_search\u001b[0m\u001b[1;33m.\u001b[0m\u001b[0mfit\u001b[0m\u001b[1;33m(\u001b[0m\u001b[0mXbal_train\u001b[0m\u001b[1;33m,\u001b[0m \u001b[0mybal_train\u001b[0m\u001b[1;33m)\u001b[0m\u001b[1;33m\u001b[0m\u001b[0m\n\u001b[0m\u001b[0;32m      5\u001b[0m print(\"GridSearchCV took %.2f seconds for %d candidate parameter settings.\"\n\u001b[0;32m      6\u001b[0m       % (time() - start, len(grid_search.grid_scores_)))\n",
      "\u001b[1;32mC:\\Users\\acelikkaya\\AppData\\Local\\Continuum\\Anaconda3\\lib\\site-packages\\sklearn\\grid_search.py\u001b[0m in \u001b[0;36mfit\u001b[1;34m(self, X, y)\u001b[0m\n\u001b[0;32m    730\u001b[0m \u001b[1;33m\u001b[0m\u001b[0m\n\u001b[0;32m    731\u001b[0m         \"\"\"\n\u001b[1;32m--> 732\u001b[1;33m         \u001b[1;32mreturn\u001b[0m \u001b[0mself\u001b[0m\u001b[1;33m.\u001b[0m\u001b[0m_fit\u001b[0m\u001b[1;33m(\u001b[0m\u001b[0mX\u001b[0m\u001b[1;33m,\u001b[0m \u001b[0my\u001b[0m\u001b[1;33m,\u001b[0m \u001b[0mParameterGrid\u001b[0m\u001b[1;33m(\u001b[0m\u001b[0mself\u001b[0m\u001b[1;33m.\u001b[0m\u001b[0mparam_grid\u001b[0m\u001b[1;33m)\u001b[0m\u001b[1;33m)\u001b[0m\u001b[1;33m\u001b[0m\u001b[0m\n\u001b[0m\u001b[0;32m    733\u001b[0m \u001b[1;33m\u001b[0m\u001b[0m\n\u001b[0;32m    734\u001b[0m \u001b[1;33m\u001b[0m\u001b[0m\n",
      "\u001b[1;32mC:\\Users\\acelikkaya\\AppData\\Local\\Continuum\\Anaconda3\\lib\\site-packages\\sklearn\\grid_search.py\u001b[0m in \u001b[0;36m_fit\u001b[1;34m(self, X, y, parameter_iterable)\u001b[0m\n\u001b[0;32m    503\u001b[0m                                     \u001b[0mself\u001b[0m\u001b[1;33m.\u001b[0m\u001b[0mfit_params\u001b[0m\u001b[1;33m,\u001b[0m \u001b[0mreturn_parameters\u001b[0m\u001b[1;33m=\u001b[0m\u001b[1;32mTrue\u001b[0m\u001b[1;33m,\u001b[0m\u001b[1;33m\u001b[0m\u001b[0m\n\u001b[0;32m    504\u001b[0m                                     error_score=self.error_score)\n\u001b[1;32m--> 505\u001b[1;33m                 \u001b[1;32mfor\u001b[0m \u001b[0mparameters\u001b[0m \u001b[1;32min\u001b[0m \u001b[0mparameter_iterable\u001b[0m\u001b[1;33m\u001b[0m\u001b[0m\n\u001b[0m\u001b[0;32m    506\u001b[0m                 for train, test in cv)\n\u001b[0;32m    507\u001b[0m \u001b[1;33m\u001b[0m\u001b[0m\n",
      "\u001b[1;32mC:\\Users\\acelikkaya\\AppData\\Local\\Continuum\\Anaconda3\\lib\\site-packages\\sklearn\\externals\\joblib\\parallel.py\u001b[0m in \u001b[0;36m__call__\u001b[1;34m(self, iterable)\u001b[0m\n\u001b[0;32m    657\u001b[0m             \u001b[0mself\u001b[0m\u001b[1;33m.\u001b[0m\u001b[0m_iterating\u001b[0m \u001b[1;33m=\u001b[0m \u001b[1;32mTrue\u001b[0m\u001b[1;33m\u001b[0m\u001b[0m\n\u001b[0;32m    658\u001b[0m             \u001b[1;32mfor\u001b[0m \u001b[0mfunction\u001b[0m\u001b[1;33m,\u001b[0m \u001b[0margs\u001b[0m\u001b[1;33m,\u001b[0m \u001b[0mkwargs\u001b[0m \u001b[1;32min\u001b[0m \u001b[0miterable\u001b[0m\u001b[1;33m:\u001b[0m\u001b[1;33m\u001b[0m\u001b[0m\n\u001b[1;32m--> 659\u001b[1;33m                 \u001b[0mself\u001b[0m\u001b[1;33m.\u001b[0m\u001b[0mdispatch\u001b[0m\u001b[1;33m(\u001b[0m\u001b[0mfunction\u001b[0m\u001b[1;33m,\u001b[0m \u001b[0margs\u001b[0m\u001b[1;33m,\u001b[0m \u001b[0mkwargs\u001b[0m\u001b[1;33m)\u001b[0m\u001b[1;33m\u001b[0m\u001b[0m\n\u001b[0m\u001b[0;32m    660\u001b[0m \u001b[1;33m\u001b[0m\u001b[0m\n\u001b[0;32m    661\u001b[0m             \u001b[1;32mif\u001b[0m \u001b[0mpre_dispatch\u001b[0m \u001b[1;33m==\u001b[0m \u001b[1;34m\"all\"\u001b[0m \u001b[1;32mor\u001b[0m \u001b[0mn_jobs\u001b[0m \u001b[1;33m==\u001b[0m \u001b[1;36m1\u001b[0m\u001b[1;33m:\u001b[0m\u001b[1;33m\u001b[0m\u001b[0m\n",
      "\u001b[1;32mC:\\Users\\acelikkaya\\AppData\\Local\\Continuum\\Anaconda3\\lib\\site-packages\\sklearn\\externals\\joblib\\parallel.py\u001b[0m in \u001b[0;36mdispatch\u001b[1;34m(self, func, args, kwargs)\u001b[0m\n\u001b[0;32m    404\u001b[0m         \"\"\"\n\u001b[0;32m    405\u001b[0m         \u001b[1;32mif\u001b[0m \u001b[0mself\u001b[0m\u001b[1;33m.\u001b[0m\u001b[0m_pool\u001b[0m \u001b[1;32mis\u001b[0m \u001b[1;32mNone\u001b[0m\u001b[1;33m:\u001b[0m\u001b[1;33m\u001b[0m\u001b[0m\n\u001b[1;32m--> 406\u001b[1;33m             \u001b[0mjob\u001b[0m \u001b[1;33m=\u001b[0m \u001b[0mImmediateApply\u001b[0m\u001b[1;33m(\u001b[0m\u001b[0mfunc\u001b[0m\u001b[1;33m,\u001b[0m \u001b[0margs\u001b[0m\u001b[1;33m,\u001b[0m \u001b[0mkwargs\u001b[0m\u001b[1;33m)\u001b[0m\u001b[1;33m\u001b[0m\u001b[0m\n\u001b[0m\u001b[0;32m    407\u001b[0m             \u001b[0mindex\u001b[0m \u001b[1;33m=\u001b[0m \u001b[0mlen\u001b[0m\u001b[1;33m(\u001b[0m\u001b[0mself\u001b[0m\u001b[1;33m.\u001b[0m\u001b[0m_jobs\u001b[0m\u001b[1;33m)\u001b[0m\u001b[1;33m\u001b[0m\u001b[0m\n\u001b[0;32m    408\u001b[0m             \u001b[1;32mif\u001b[0m \u001b[1;32mnot\u001b[0m \u001b[0m_verbosity_filter\u001b[0m\u001b[1;33m(\u001b[0m\u001b[0mindex\u001b[0m\u001b[1;33m,\u001b[0m \u001b[0mself\u001b[0m\u001b[1;33m.\u001b[0m\u001b[0mverbose\u001b[0m\u001b[1;33m)\u001b[0m\u001b[1;33m:\u001b[0m\u001b[1;33m\u001b[0m\u001b[0m\n",
      "\u001b[1;32mC:\\Users\\acelikkaya\\AppData\\Local\\Continuum\\Anaconda3\\lib\\site-packages\\sklearn\\externals\\joblib\\parallel.py\u001b[0m in \u001b[0;36m__init__\u001b[1;34m(self, func, args, kwargs)\u001b[0m\n\u001b[0;32m    138\u001b[0m         \u001b[1;31m# Don't delay the application, to avoid keeping the input\u001b[0m\u001b[1;33m\u001b[0m\u001b[1;33m\u001b[0m\u001b[0m\n\u001b[0;32m    139\u001b[0m         \u001b[1;31m# arguments in memory\u001b[0m\u001b[1;33m\u001b[0m\u001b[1;33m\u001b[0m\u001b[0m\n\u001b[1;32m--> 140\u001b[1;33m         \u001b[0mself\u001b[0m\u001b[1;33m.\u001b[0m\u001b[0mresults\u001b[0m \u001b[1;33m=\u001b[0m \u001b[0mfunc\u001b[0m\u001b[1;33m(\u001b[0m\u001b[1;33m*\u001b[0m\u001b[0margs\u001b[0m\u001b[1;33m,\u001b[0m \u001b[1;33m**\u001b[0m\u001b[0mkwargs\u001b[0m\u001b[1;33m)\u001b[0m\u001b[1;33m\u001b[0m\u001b[0m\n\u001b[0m\u001b[0;32m    141\u001b[0m \u001b[1;33m\u001b[0m\u001b[0m\n\u001b[0;32m    142\u001b[0m     \u001b[1;32mdef\u001b[0m \u001b[0mget\u001b[0m\u001b[1;33m(\u001b[0m\u001b[0mself\u001b[0m\u001b[1;33m)\u001b[0m\u001b[1;33m:\u001b[0m\u001b[1;33m\u001b[0m\u001b[0m\n",
      "\u001b[1;32mC:\\Users\\acelikkaya\\AppData\\Local\\Continuum\\Anaconda3\\lib\\site-packages\\sklearn\\cross_validation.py\u001b[0m in \u001b[0;36m_fit_and_score\u001b[1;34m(estimator, X, y, scorer, train, test, verbose, parameters, fit_params, return_train_score, return_parameters, error_score)\u001b[0m\n\u001b[0;32m   1457\u001b[0m             \u001b[0mestimator\u001b[0m\u001b[1;33m.\u001b[0m\u001b[0mfit\u001b[0m\u001b[1;33m(\u001b[0m\u001b[0mX_train\u001b[0m\u001b[1;33m,\u001b[0m \u001b[1;33m**\u001b[0m\u001b[0mfit_params\u001b[0m\u001b[1;33m)\u001b[0m\u001b[1;33m\u001b[0m\u001b[0m\n\u001b[0;32m   1458\u001b[0m         \u001b[1;32melse\u001b[0m\u001b[1;33m:\u001b[0m\u001b[1;33m\u001b[0m\u001b[0m\n\u001b[1;32m-> 1459\u001b[1;33m             \u001b[0mestimator\u001b[0m\u001b[1;33m.\u001b[0m\u001b[0mfit\u001b[0m\u001b[1;33m(\u001b[0m\u001b[0mX_train\u001b[0m\u001b[1;33m,\u001b[0m \u001b[0my_train\u001b[0m\u001b[1;33m,\u001b[0m \u001b[1;33m**\u001b[0m\u001b[0mfit_params\u001b[0m\u001b[1;33m)\u001b[0m\u001b[1;33m\u001b[0m\u001b[0m\n\u001b[0m\u001b[0;32m   1460\u001b[0m \u001b[1;33m\u001b[0m\u001b[0m\n\u001b[0;32m   1461\u001b[0m     \u001b[1;32mexcept\u001b[0m \u001b[0mException\u001b[0m \u001b[1;32mas\u001b[0m \u001b[0me\u001b[0m\u001b[1;33m:\u001b[0m\u001b[1;33m\u001b[0m\u001b[0m\n",
      "\u001b[1;32mC:\\Users\\acelikkaya\\AppData\\Local\\Continuum\\Anaconda3\\lib\\site-packages\\sklearn\\ensemble\\forest.py\u001b[0m in \u001b[0;36mfit\u001b[1;34m(self, X, y, sample_weight)\u001b[0m\n\u001b[0;32m    271\u001b[0m                     \u001b[0mt\u001b[0m\u001b[1;33m,\u001b[0m \u001b[0mself\u001b[0m\u001b[1;33m,\u001b[0m \u001b[0mX\u001b[0m\u001b[1;33m,\u001b[0m \u001b[0my\u001b[0m\u001b[1;33m,\u001b[0m \u001b[0msample_weight\u001b[0m\u001b[1;33m,\u001b[0m \u001b[0mi\u001b[0m\u001b[1;33m,\u001b[0m \u001b[0mlen\u001b[0m\u001b[1;33m(\u001b[0m\u001b[0mtrees\u001b[0m\u001b[1;33m)\u001b[0m\u001b[1;33m,\u001b[0m\u001b[1;33m\u001b[0m\u001b[0m\n\u001b[0;32m    272\u001b[0m                     verbose=self.verbose, class_weight=self.class_weight)\n\u001b[1;32m--> 273\u001b[1;33m                 for i, t in enumerate(trees))\n\u001b[0m\u001b[0;32m    274\u001b[0m \u001b[1;33m\u001b[0m\u001b[0m\n\u001b[0;32m    275\u001b[0m             \u001b[1;31m# Collect newly grown trees\u001b[0m\u001b[1;33m\u001b[0m\u001b[1;33m\u001b[0m\u001b[0m\n",
      "\u001b[1;32mC:\\Users\\acelikkaya\\AppData\\Local\\Continuum\\Anaconda3\\lib\\site-packages\\sklearn\\externals\\joblib\\parallel.py\u001b[0m in \u001b[0;36m__call__\u001b[1;34m(self, iterable)\u001b[0m\n\u001b[0;32m    664\u001b[0m                 \u001b[1;31m# consumption.\u001b[0m\u001b[1;33m\u001b[0m\u001b[1;33m\u001b[0m\u001b[0m\n\u001b[0;32m    665\u001b[0m                 \u001b[0mself\u001b[0m\u001b[1;33m.\u001b[0m\u001b[0m_iterating\u001b[0m \u001b[1;33m=\u001b[0m \u001b[1;32mFalse\u001b[0m\u001b[1;33m\u001b[0m\u001b[0m\n\u001b[1;32m--> 666\u001b[1;33m             \u001b[0mself\u001b[0m\u001b[1;33m.\u001b[0m\u001b[0mretrieve\u001b[0m\u001b[1;33m(\u001b[0m\u001b[1;33m)\u001b[0m\u001b[1;33m\u001b[0m\u001b[0m\n\u001b[0m\u001b[0;32m    667\u001b[0m             \u001b[1;31m# Make sure that we get a last message telling us we are done\u001b[0m\u001b[1;33m\u001b[0m\u001b[1;33m\u001b[0m\u001b[0m\n\u001b[0;32m    668\u001b[0m             \u001b[0melapsed_time\u001b[0m \u001b[1;33m=\u001b[0m \u001b[0mtime\u001b[0m\u001b[1;33m.\u001b[0m\u001b[0mtime\u001b[0m\u001b[1;33m(\u001b[0m\u001b[1;33m)\u001b[0m \u001b[1;33m-\u001b[0m \u001b[0mself\u001b[0m\u001b[1;33m.\u001b[0m\u001b[0m_start_time\u001b[0m\u001b[1;33m\u001b[0m\u001b[0m\n",
      "\u001b[1;32mC:\\Users\\acelikkaya\\AppData\\Local\\Continuum\\Anaconda3\\lib\\site-packages\\sklearn\\externals\\joblib\\parallel.py\u001b[0m in \u001b[0;36mretrieve\u001b[1;34m(self)\u001b[0m\n\u001b[0;32m    516\u001b[0m                 \u001b[0mself\u001b[0m\u001b[1;33m.\u001b[0m\u001b[0m_lock\u001b[0m\u001b[1;33m.\u001b[0m\u001b[0mrelease\u001b[0m\u001b[1;33m(\u001b[0m\u001b[1;33m)\u001b[0m\u001b[1;33m\u001b[0m\u001b[0m\n\u001b[0;32m    517\u001b[0m             \u001b[1;32mtry\u001b[0m\u001b[1;33m:\u001b[0m\u001b[1;33m\u001b[0m\u001b[0m\n\u001b[1;32m--> 518\u001b[1;33m                 \u001b[0mself\u001b[0m\u001b[1;33m.\u001b[0m\u001b[0m_output\u001b[0m\u001b[1;33m.\u001b[0m\u001b[0mappend\u001b[0m\u001b[1;33m(\u001b[0m\u001b[0mjob\u001b[0m\u001b[1;33m.\u001b[0m\u001b[0mget\u001b[0m\u001b[1;33m(\u001b[0m\u001b[1;33m)\u001b[0m\u001b[1;33m)\u001b[0m\u001b[1;33m\u001b[0m\u001b[0m\n\u001b[0m\u001b[0;32m    519\u001b[0m             \u001b[1;32mexcept\u001b[0m \u001b[0mtuple\u001b[0m\u001b[1;33m(\u001b[0m\u001b[0mself\u001b[0m\u001b[1;33m.\u001b[0m\u001b[0mexceptions\u001b[0m\u001b[1;33m)\u001b[0m \u001b[1;32mas\u001b[0m \u001b[0mexception\u001b[0m\u001b[1;33m:\u001b[0m\u001b[1;33m\u001b[0m\u001b[0m\n\u001b[0;32m    520\u001b[0m                 \u001b[1;32mtry\u001b[0m\u001b[1;33m:\u001b[0m\u001b[1;33m\u001b[0m\u001b[0m\n",
      "\u001b[1;32mC:\\Users\\acelikkaya\\AppData\\Local\\Continuum\\Anaconda3\\lib\\multiprocessing\\pool.py\u001b[0m in \u001b[0;36mget\u001b[1;34m(self, timeout)\u001b[0m\n\u001b[0;32m    591\u001b[0m \u001b[1;33m\u001b[0m\u001b[0m\n\u001b[0;32m    592\u001b[0m     \u001b[1;32mdef\u001b[0m \u001b[0mget\u001b[0m\u001b[1;33m(\u001b[0m\u001b[0mself\u001b[0m\u001b[1;33m,\u001b[0m \u001b[0mtimeout\u001b[0m\u001b[1;33m=\u001b[0m\u001b[1;32mNone\u001b[0m\u001b[1;33m)\u001b[0m\u001b[1;33m:\u001b[0m\u001b[1;33m\u001b[0m\u001b[0m\n\u001b[1;32m--> 593\u001b[1;33m         \u001b[0mself\u001b[0m\u001b[1;33m.\u001b[0m\u001b[0mwait\u001b[0m\u001b[1;33m(\u001b[0m\u001b[0mtimeout\u001b[0m\u001b[1;33m)\u001b[0m\u001b[1;33m\u001b[0m\u001b[0m\n\u001b[0m\u001b[0;32m    594\u001b[0m         \u001b[1;32mif\u001b[0m \u001b[1;32mnot\u001b[0m \u001b[0mself\u001b[0m\u001b[1;33m.\u001b[0m\u001b[0mready\u001b[0m\u001b[1;33m(\u001b[0m\u001b[1;33m)\u001b[0m\u001b[1;33m:\u001b[0m\u001b[1;33m\u001b[0m\u001b[0m\n\u001b[0;32m    595\u001b[0m             \u001b[1;32mraise\u001b[0m \u001b[0mTimeoutError\u001b[0m\u001b[1;33m\u001b[0m\u001b[0m\n",
      "\u001b[1;32mC:\\Users\\acelikkaya\\AppData\\Local\\Continuum\\Anaconda3\\lib\\multiprocessing\\pool.py\u001b[0m in \u001b[0;36mwait\u001b[1;34m(self, timeout)\u001b[0m\n\u001b[0;32m    588\u001b[0m \u001b[1;33m\u001b[0m\u001b[0m\n\u001b[0;32m    589\u001b[0m     \u001b[1;32mdef\u001b[0m \u001b[0mwait\u001b[0m\u001b[1;33m(\u001b[0m\u001b[0mself\u001b[0m\u001b[1;33m,\u001b[0m \u001b[0mtimeout\u001b[0m\u001b[1;33m=\u001b[0m\u001b[1;32mNone\u001b[0m\u001b[1;33m)\u001b[0m\u001b[1;33m:\u001b[0m\u001b[1;33m\u001b[0m\u001b[0m\n\u001b[1;32m--> 590\u001b[1;33m         \u001b[0mself\u001b[0m\u001b[1;33m.\u001b[0m\u001b[0m_event\u001b[0m\u001b[1;33m.\u001b[0m\u001b[0mwait\u001b[0m\u001b[1;33m(\u001b[0m\u001b[0mtimeout\u001b[0m\u001b[1;33m)\u001b[0m\u001b[1;33m\u001b[0m\u001b[0m\n\u001b[0m\u001b[0;32m    591\u001b[0m \u001b[1;33m\u001b[0m\u001b[0m\n\u001b[0;32m    592\u001b[0m     \u001b[1;32mdef\u001b[0m \u001b[0mget\u001b[0m\u001b[1;33m(\u001b[0m\u001b[0mself\u001b[0m\u001b[1;33m,\u001b[0m \u001b[0mtimeout\u001b[0m\u001b[1;33m=\u001b[0m\u001b[1;32mNone\u001b[0m\u001b[1;33m)\u001b[0m\u001b[1;33m:\u001b[0m\u001b[1;33m\u001b[0m\u001b[0m\n",
      "\u001b[1;32mC:\\Users\\acelikkaya\\AppData\\Local\\Continuum\\Anaconda3\\lib\\threading.py\u001b[0m in \u001b[0;36mwait\u001b[1;34m(self, timeout)\u001b[0m\n\u001b[0;32m    551\u001b[0m             \u001b[0msignaled\u001b[0m \u001b[1;33m=\u001b[0m \u001b[0mself\u001b[0m\u001b[1;33m.\u001b[0m\u001b[0m_flag\u001b[0m\u001b[1;33m\u001b[0m\u001b[0m\n\u001b[0;32m    552\u001b[0m             \u001b[1;32mif\u001b[0m \u001b[1;32mnot\u001b[0m \u001b[0msignaled\u001b[0m\u001b[1;33m:\u001b[0m\u001b[1;33m\u001b[0m\u001b[0m\n\u001b[1;32m--> 553\u001b[1;33m                 \u001b[0msignaled\u001b[0m \u001b[1;33m=\u001b[0m \u001b[0mself\u001b[0m\u001b[1;33m.\u001b[0m\u001b[0m_cond\u001b[0m\u001b[1;33m.\u001b[0m\u001b[0mwait\u001b[0m\u001b[1;33m(\u001b[0m\u001b[0mtimeout\u001b[0m\u001b[1;33m)\u001b[0m\u001b[1;33m\u001b[0m\u001b[0m\n\u001b[0m\u001b[0;32m    554\u001b[0m             \u001b[1;32mreturn\u001b[0m \u001b[0msignaled\u001b[0m\u001b[1;33m\u001b[0m\u001b[0m\n\u001b[0;32m    555\u001b[0m         \u001b[1;32mfinally\u001b[0m\u001b[1;33m:\u001b[0m\u001b[1;33m\u001b[0m\u001b[0m\n",
      "\u001b[1;32mC:\\Users\\acelikkaya\\AppData\\Local\\Continuum\\Anaconda3\\lib\\threading.py\u001b[0m in \u001b[0;36mwait\u001b[1;34m(self, timeout)\u001b[0m\n\u001b[0;32m    288\u001b[0m         \u001b[1;32mtry\u001b[0m\u001b[1;33m:\u001b[0m    \u001b[1;31m# restore state no matter what (e.g., KeyboardInterrupt)\u001b[0m\u001b[1;33m\u001b[0m\u001b[0m\n\u001b[0;32m    289\u001b[0m             \u001b[1;32mif\u001b[0m \u001b[0mtimeout\u001b[0m \u001b[1;32mis\u001b[0m \u001b[1;32mNone\u001b[0m\u001b[1;33m:\u001b[0m\u001b[1;33m\u001b[0m\u001b[0m\n\u001b[1;32m--> 290\u001b[1;33m                 \u001b[0mwaiter\u001b[0m\u001b[1;33m.\u001b[0m\u001b[0macquire\u001b[0m\u001b[1;33m(\u001b[0m\u001b[1;33m)\u001b[0m\u001b[1;33m\u001b[0m\u001b[0m\n\u001b[0m\u001b[0;32m    291\u001b[0m                 \u001b[0mgotit\u001b[0m \u001b[1;33m=\u001b[0m \u001b[1;32mTrue\u001b[0m\u001b[1;33m\u001b[0m\u001b[0m\n\u001b[0;32m    292\u001b[0m             \u001b[1;32melse\u001b[0m\u001b[1;33m:\u001b[0m\u001b[1;33m\u001b[0m\u001b[0m\n",
      "\u001b[1;31mKeyboardInterrupt\u001b[0m: "
     ]
    }
   ],
   "source": [
    "#GridSearchCV hyperparameter optimizing\n",
    "grid_search = GridSearchCV(rf_weighted, param_grid=param_grid_ManyTrees) #add cv=kfold??\n",
    "start = time()\n",
    "grid_search.fit(Xbal_train, ybal_train)\n",
    "print(\"GridSearchCV took %.2f seconds for %d candidate parameter settings.\"\n",
    "      % (time() - start, len(grid_search.grid_scores_)))\n",
    "report(grid_search.grid_scores_)"
   ]
  },
  {
   "cell_type": "code",
   "execution_count": 41,
   "metadata": {
    "collapsed": true
   },
   "outputs": [
    {
     "ename": "TypeError",
     "evalue": "unhashable type: 'slice'",
     "output_type": "error",
     "traceback": [
      "\u001b[1;31m---------------------------------------------------------------------------\u001b[0m",
      "\u001b[1;31mTypeError\u001b[0m                                 Traceback (most recent call last)",
      "\u001b[1;32m<ipython-input-41-dc45dad868e5>\u001b[0m in \u001b[0;36m<module>\u001b[1;34m()\u001b[0m\n\u001b[1;32m----> 1\u001b[1;33m \u001b[0mXtest_total\u001b[0m\u001b[1;33m[\u001b[0m\u001b[1;33m:\u001b[0m\u001b[1;33m,\u001b[0m\u001b[1;36m1\u001b[0m\u001b[1;33m]\u001b[0m\u001b[1;33m\u001b[0m\u001b[0m\n\u001b[0m",
      "\u001b[1;32mC:\\Users\\acelikkaya\\AppData\\Local\\Continuum\\Anaconda3\\lib\\site-packages\\pandas\\core\\frame.py\u001b[0m in \u001b[0;36m__getitem__\u001b[1;34m(self, key)\u001b[0m\n\u001b[0;32m   1795\u001b[0m             \u001b[1;32mreturn\u001b[0m \u001b[0mself\u001b[0m\u001b[1;33m.\u001b[0m\u001b[0m_getitem_multilevel\u001b[0m\u001b[1;33m(\u001b[0m\u001b[0mkey\u001b[0m\u001b[1;33m)\u001b[0m\u001b[1;33m\u001b[0m\u001b[0m\n\u001b[0;32m   1796\u001b[0m         \u001b[1;32melse\u001b[0m\u001b[1;33m:\u001b[0m\u001b[1;33m\u001b[0m\u001b[0m\n\u001b[1;32m-> 1797\u001b[1;33m             \u001b[1;32mreturn\u001b[0m \u001b[0mself\u001b[0m\u001b[1;33m.\u001b[0m\u001b[0m_getitem_column\u001b[0m\u001b[1;33m(\u001b[0m\u001b[0mkey\u001b[0m\u001b[1;33m)\u001b[0m\u001b[1;33m\u001b[0m\u001b[0m\n\u001b[0m\u001b[0;32m   1798\u001b[0m \u001b[1;33m\u001b[0m\u001b[0m\n\u001b[0;32m   1799\u001b[0m     \u001b[1;32mdef\u001b[0m \u001b[0m_getitem_column\u001b[0m\u001b[1;33m(\u001b[0m\u001b[0mself\u001b[0m\u001b[1;33m,\u001b[0m \u001b[0mkey\u001b[0m\u001b[1;33m)\u001b[0m\u001b[1;33m:\u001b[0m\u001b[1;33m\u001b[0m\u001b[0m\n",
      "\u001b[1;32mC:\\Users\\acelikkaya\\AppData\\Local\\Continuum\\Anaconda3\\lib\\site-packages\\pandas\\core\\frame.py\u001b[0m in \u001b[0;36m_getitem_column\u001b[1;34m(self, key)\u001b[0m\n\u001b[0;32m   1802\u001b[0m         \u001b[1;31m# get column\u001b[0m\u001b[1;33m\u001b[0m\u001b[1;33m\u001b[0m\u001b[0m\n\u001b[0;32m   1803\u001b[0m         \u001b[1;32mif\u001b[0m \u001b[0mself\u001b[0m\u001b[1;33m.\u001b[0m\u001b[0mcolumns\u001b[0m\u001b[1;33m.\u001b[0m\u001b[0mis_unique\u001b[0m\u001b[1;33m:\u001b[0m\u001b[1;33m\u001b[0m\u001b[0m\n\u001b[1;32m-> 1804\u001b[1;33m             \u001b[1;32mreturn\u001b[0m \u001b[0mself\u001b[0m\u001b[1;33m.\u001b[0m\u001b[0m_get_item_cache\u001b[0m\u001b[1;33m(\u001b[0m\u001b[0mkey\u001b[0m\u001b[1;33m)\u001b[0m\u001b[1;33m\u001b[0m\u001b[0m\n\u001b[0m\u001b[0;32m   1805\u001b[0m \u001b[1;33m\u001b[0m\u001b[0m\n\u001b[0;32m   1806\u001b[0m         \u001b[1;31m# duplicate columns & possible reduce dimensionaility\u001b[0m\u001b[1;33m\u001b[0m\u001b[1;33m\u001b[0m\u001b[0m\n",
      "\u001b[1;32mC:\\Users\\acelikkaya\\AppData\\Local\\Continuum\\Anaconda3\\lib\\site-packages\\pandas\\core\\generic.py\u001b[0m in \u001b[0;36m_get_item_cache\u001b[1;34m(self, item)\u001b[0m\n\u001b[0;32m   1080\u001b[0m         \u001b[1;34m\"\"\" return the cached item, item represents a label indexer \"\"\"\u001b[0m\u001b[1;33m\u001b[0m\u001b[0m\n\u001b[0;32m   1081\u001b[0m         \u001b[0mcache\u001b[0m \u001b[1;33m=\u001b[0m \u001b[0mself\u001b[0m\u001b[1;33m.\u001b[0m\u001b[0m_item_cache\u001b[0m\u001b[1;33m\u001b[0m\u001b[0m\n\u001b[1;32m-> 1082\u001b[1;33m         \u001b[0mres\u001b[0m \u001b[1;33m=\u001b[0m \u001b[0mcache\u001b[0m\u001b[1;33m.\u001b[0m\u001b[0mget\u001b[0m\u001b[1;33m(\u001b[0m\u001b[0mitem\u001b[0m\u001b[1;33m)\u001b[0m\u001b[1;33m\u001b[0m\u001b[0m\n\u001b[0m\u001b[0;32m   1083\u001b[0m         \u001b[1;32mif\u001b[0m \u001b[0mres\u001b[0m \u001b[1;32mis\u001b[0m \u001b[1;32mNone\u001b[0m\u001b[1;33m:\u001b[0m\u001b[1;33m\u001b[0m\u001b[0m\n\u001b[0;32m   1084\u001b[0m             \u001b[0mvalues\u001b[0m \u001b[1;33m=\u001b[0m \u001b[0mself\u001b[0m\u001b[1;33m.\u001b[0m\u001b[0m_data\u001b[0m\u001b[1;33m.\u001b[0m\u001b[0mget\u001b[0m\u001b[1;33m(\u001b[0m\u001b[0mitem\u001b[0m\u001b[1;33m)\u001b[0m\u001b[1;33m\u001b[0m\u001b[0m\n",
      "\u001b[1;31mTypeError\u001b[0m: unhashable type: 'slice'"
     ]
    }
   ],
   "source": []
  },
  {
   "cell_type": "markdown",
   "metadata": {},
   "source": [
    "## Testing area only here (not for final solution)--------------------------------------------------------------"
   ]
  },
  {
   "cell_type": "code",
   "execution_count": null,
   "metadata": {
    "collapsed": true
   },
   "outputs": [],
   "source": [
    "testlist = rf_all.predict_proba(Xtest_total.iloc[[11900]])\n",
    "#testlist = np.delete(testlist, testlist.argmax())\n",
    "testlist = np.delete(testlist, testlist.argmax())\n",
    "\n",
    "le_y_test.inverse_transform(testlist.argmax())\n",
    "\n",
    "ytest_total[11900]\n",
    "\n",
    "#%timeit stack_estimate(x_total,12111)\n",
    "stack_estimate(Xtest_index, 11900)\n",
    "\n",
    "rf_all.predict(Xtest_index.iloc[[1900]])\n",
    "\n",
    "y_tottest_index[11888]"
   ]
  },
  {
   "cell_type": "markdown",
   "metadata": {},
   "source": [
    "#### _(deprecated) Uncode function to translate back to original labels_"
   ]
  },
  {
   "cell_type": "markdown",
   "metadata": {},
   "source": [
    "#### (TODO) Establish scikit pipeline"
   ]
  },
  {
   "cell_type": "code",
   "execution_count": 20,
   "metadata": {
    "collapsed": false
   },
   "outputs": [
    {
     "data": {
      "text/plain": [
       "Pipeline(steps=[('rfclass2', RandomForestClassifier(bootstrap=True, class_weight=None, criterion='gini',\n",
       "            max_depth=None, max_features='auto', max_leaf_nodes=None,\n",
       "            min_samples_leaf=1, min_samples_split=2,\n",
       "            min_weight_fraction_leaf=0.0, n_estimators=10, n_jobs=1,\n",
       "            ...n_jobs=1,\n",
       "            oob_score=False, random_state=None, verbose=0,\n",
       "            warm_start=False))])"
      ]
     },
     "execution_count": 20,
     "metadata": {},
     "output_type": "execute_result"
    }
   ],
   "source": [
    "from sklearn.pipeline import Pipeline\n",
    "estimators = [('rfclass2', RandomForestClassifier()), ('rfclass3', RandomForestClassifier()),\n",
    "              ('rfclass4', RandomForestClassifier()), ('rfrest', RandomForestClassifier())]\n",
    "clf = Pipeline(estimators) \n",
    "clf.set_params(rfrest__n_estimators=100)"
   ]
  },
  {
   "cell_type": "code",
   "execution_count": null,
   "metadata": {
    "collapsed": true
   },
   "outputs": [],
   "source": []
  }
 ],
 "metadata": {
  "kernelspec": {
   "display_name": "Python 3",
   "language": "python",
   "name": "python3"
  },
  "language_info": {
   "codemirror_mode": {
    "name": "ipython",
    "version": 3
   },
   "file_extension": ".py",
   "mimetype": "text/x-python",
   "name": "python",
   "nbconvert_exporter": "python",
   "pygments_lexer": "ipython3",
   "version": "3.4.3"
  }
 },
 "nbformat": 4,
 "nbformat_minor": 0
}
